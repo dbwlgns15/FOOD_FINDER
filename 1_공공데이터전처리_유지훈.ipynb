{
 "cells": [
  {
   "cell_type": "code",
   "execution_count": 1,
   "id": "d628a121",
   "metadata": {
    "id": "d628a121"
   },
   "outputs": [],
   "source": [
    "import pandas as pd\n",
    "import numpy as np\n",
    "import matplotlib.pyplot as plt\n",
    "import seaborn as sns\n",
    "import re\n",
    "\n",
    "import warnings\n",
    "from collections import Counter\n",
    "warnings.filterwarnings('ignore')"
   ]
  },
  {
   "cell_type": "markdown",
   "id": "feec8504",
   "metadata": {},
   "source": [
    "### 1. 필요없는 열 제거"
   ]
  },
  {
   "cell_type": "code",
   "execution_count": 2,
   "id": "d6c20dcd",
   "metadata": {
    "id": "d6c20dcd",
    "outputId": "0ba80dea-76dd-4ccb-e420-45dcbe25d4f3"
   },
   "outputs": [
    {
     "name": "stdout",
     "output_type": "stream",
     "text": [
      "Index(['개방자치단체코드', '관리번호', '인허가일자', '인허가취소일자', '영업상태코드', '영업상태명', '상세영업상태코드',\n",
      "       '상세영업상태명', '폐업일자', '휴업시작일자', '휴업종료일자', '재개업일자', '전화번호', '소재지면적',\n",
      "       '소재지우편번호', '지번주소', '도로명주소', '도로명우편번호', '사업장명', '최종수정일자', '데이터갱신구분',\n",
      "       '데이터갱신일자', '업태구분명', '좌표정보(X)', '좌표정보(Y)', '위생업태명', '남성종사자수', '여성종사자수',\n",
      "       '영업장주변구분명', '등급구분명', '급수시설구분명', '총인원', '본사종업원수', '공장사무직종업원수',\n",
      "       '공장판매직종업원수', '공장생산직종업원수', '건물소유구분명', '보증액', '월세액', '다중이용업소여부', '시설총규모',\n",
      "       '전통업소지정번호', '전통업소주된음식', '홈페이지'],\n",
      "      dtype='object')\n"
     ]
    }
   ],
   "source": [
    "df = pd.read_csv(\"./서울특별시 일반음식점 인허가 정보.csv\", encoding='cp949')\n",
    "print(df.columns)"
   ]
  },
  {
   "cell_type": "code",
   "execution_count": 3,
   "id": "419f390d",
   "metadata": {
    "id": "419f390d",
    "outputId": "fc2f9887-fc72-44c8-ebe0-d21142324588"
   },
   "outputs": [
    {
     "data": {
      "text/html": [
       "<div>\n",
       "<style scoped>\n",
       "    .dataframe tbody tr th:only-of-type {\n",
       "        vertical-align: middle;\n",
       "    }\n",
       "\n",
       "    .dataframe tbody tr th {\n",
       "        vertical-align: top;\n",
       "    }\n",
       "\n",
       "    .dataframe thead th {\n",
       "        text-align: right;\n",
       "    }\n",
       "</style>\n",
       "<table border=\"1\" class=\"dataframe\">\n",
       "  <thead>\n",
       "    <tr style=\"text-align: right;\">\n",
       "      <th></th>\n",
       "      <th>상세영업상태코드</th>\n",
       "      <th>도로명주소</th>\n",
       "      <th>사업장명</th>\n",
       "      <th>업태구분명</th>\n",
       "      <th>좌표정보(X)</th>\n",
       "      <th>좌표정보(Y)</th>\n",
       "    </tr>\n",
       "  </thead>\n",
       "  <tbody>\n",
       "    <tr>\n",
       "      <th>0</th>\n",
       "      <td>1</td>\n",
       "      <td>NaN</td>\n",
       "      <td>일식동경</td>\n",
       "      <td>일식</td>\n",
       "      <td>NaN</td>\n",
       "      <td>NaN</td>\n",
       "    </tr>\n",
       "    <tr>\n",
       "      <th>1</th>\n",
       "      <td>1</td>\n",
       "      <td>서울특별시 종로구 삼일대로 382 (관철동)</td>\n",
       "      <td>상해</td>\n",
       "      <td>분식</td>\n",
       "      <td>198867.702591</td>\n",
       "      <td>451824.281126</td>\n",
       "    </tr>\n",
       "    <tr>\n",
       "      <th>2</th>\n",
       "      <td>1</td>\n",
       "      <td>서울특별시 관악구 신림로59길 15-13 4층 (신림동)</td>\n",
       "      <td>미쿠</td>\n",
       "      <td>일식</td>\n",
       "      <td>193687.348199</td>\n",
       "      <td>442284.164025</td>\n",
       "    </tr>\n",
       "    <tr>\n",
       "      <th>3</th>\n",
       "      <td>1</td>\n",
       "      <td>서울특별시 구로구 구로동로22길 21 1층 (구로동)</td>\n",
       "      <td>여름엔빙수겨울엔떡국</td>\n",
       "      <td>한식</td>\n",
       "      <td>189814.305919</td>\n",
       "      <td>443046.239859</td>\n",
       "    </tr>\n",
       "    <tr>\n",
       "      <th>4</th>\n",
       "      <td>1</td>\n",
       "      <td>서울특별시 강남구 삼성로85길 33 1층 102-2호 (대치동)</td>\n",
       "      <td>카페디퍼</td>\n",
       "      <td>기타</td>\n",
       "      <td>204776.548264</td>\n",
       "      <td>444677.642985</td>\n",
       "    </tr>\n",
       "  </tbody>\n",
       "</table>\n",
       "</div>"
      ],
      "text/plain": [
       "   상세영업상태코드                                도로명주소        사업장명 업태구분명  \\\n",
       "0         1                                  NaN        일식동경    일식   \n",
       "1         1             서울특별시 종로구 삼일대로 382 (관철동)          상해    분식   \n",
       "2         1      서울특별시 관악구 신림로59길 15-13 4층 (신림동)          미쿠    일식   \n",
       "3         1        서울특별시 구로구 구로동로22길 21 1층 (구로동)  여름엔빙수겨울엔떡국    한식   \n",
       "4         1  서울특별시 강남구 삼성로85길 33 1층 102-2호 (대치동)        카페디퍼    기타   \n",
       "\n",
       "         좌표정보(X)        좌표정보(Y)  \n",
       "0            NaN            NaN  \n",
       "1  198867.702591  451824.281126  \n",
       "2  193687.348199  442284.164025  \n",
       "3  189814.305919  443046.239859  \n",
       "4  204776.548264  444677.642985  "
      ]
     },
     "execution_count": 3,
     "metadata": {},
     "output_type": "execute_result"
    }
   ],
   "source": [
    "df = df[['상세영업상태코드', '도로명주소' , '사업장명', '업태구분명', '좌표정보(X)', '좌표정보(Y)']]\n",
    "df.head()"
   ]
  },
  {
   "cell_type": "markdown",
   "id": "3035c99a",
   "metadata": {},
   "source": [
    "### 2. 결측치 제거"
   ]
  },
  {
   "cell_type": "code",
   "execution_count": 4,
   "id": "4c409397",
   "metadata": {},
   "outputs": [],
   "source": [
    "def check_null(df):    \n",
    "    total_cnt = 0\n",
    "    for i in df.columns:\n",
    "        cnt = sum(df[i].isnull())\n",
    "        total_cnt += cnt\n",
    "        if cnt:\n",
    "            print(f'{i}열에 결측치{cnt}개')\n",
    "        else:\n",
    "            print(f'{i}열에 결측치 없음')\n",
    "    if total_cnt == 0:\n",
    "        print('모든 열에 결측치 없음')\n",
    "    else:\n",
    "        print(f'총 결측치 {total_cnt}개')"
   ]
  },
  {
   "cell_type": "code",
   "execution_count": 5,
   "id": "53524012",
   "metadata": {},
   "outputs": [
    {
     "name": "stdout",
     "output_type": "stream",
     "text": [
      "상세영업상태코드열에 결측치 없음\n",
      "도로명주소열에 결측치250895개\n",
      "사업장명열에 결측치1개\n",
      "업태구분명열에 결측치21개\n",
      "좌표정보(X)열에 결측치24965개\n",
      "좌표정보(Y)열에 결측치24965개\n",
      "총 결측치 300847개\n"
     ]
    }
   ],
   "source": [
    "check_null(df)"
   ]
  },
  {
   "cell_type": "code",
   "execution_count": 6,
   "id": "09e616bc",
   "metadata": {
    "id": "09e616bc",
    "outputId": "c18db353-f0a3-4854-dbe1-26e1e81f76da",
    "scrolled": false
   },
   "outputs": [
    {
     "data": {
      "text/html": [
       "<div>\n",
       "<style scoped>\n",
       "    .dataframe tbody tr th:only-of-type {\n",
       "        vertical-align: middle;\n",
       "    }\n",
       "\n",
       "    .dataframe tbody tr th {\n",
       "        vertical-align: top;\n",
       "    }\n",
       "\n",
       "    .dataframe thead th {\n",
       "        text-align: right;\n",
       "    }\n",
       "</style>\n",
       "<table border=\"1\" class=\"dataframe\">\n",
       "  <thead>\n",
       "    <tr style=\"text-align: right;\">\n",
       "      <th></th>\n",
       "      <th>상세영업상태코드</th>\n",
       "      <th>도로명주소</th>\n",
       "      <th>사업장명</th>\n",
       "      <th>업태구분명</th>\n",
       "      <th>좌표정보(X)</th>\n",
       "      <th>좌표정보(Y)</th>\n",
       "    </tr>\n",
       "  </thead>\n",
       "  <tbody>\n",
       "    <tr>\n",
       "      <th>1</th>\n",
       "      <td>1</td>\n",
       "      <td>서울특별시 종로구 삼일대로 382 (관철동)</td>\n",
       "      <td>상해</td>\n",
       "      <td>분식</td>\n",
       "      <td>198867.702591</td>\n",
       "      <td>451824.281126</td>\n",
       "    </tr>\n",
       "    <tr>\n",
       "      <th>2</th>\n",
       "      <td>1</td>\n",
       "      <td>서울특별시 관악구 신림로59길 15-13 4층 (신림동)</td>\n",
       "      <td>미쿠</td>\n",
       "      <td>일식</td>\n",
       "      <td>193687.348199</td>\n",
       "      <td>442284.164025</td>\n",
       "    </tr>\n",
       "    <tr>\n",
       "      <th>3</th>\n",
       "      <td>1</td>\n",
       "      <td>서울특별시 구로구 구로동로22길 21 1층 (구로동)</td>\n",
       "      <td>여름엔빙수겨울엔떡국</td>\n",
       "      <td>한식</td>\n",
       "      <td>189814.305919</td>\n",
       "      <td>443046.239859</td>\n",
       "    </tr>\n",
       "    <tr>\n",
       "      <th>4</th>\n",
       "      <td>1</td>\n",
       "      <td>서울특별시 강남구 삼성로85길 33 1층 102-2호 (대치동)</td>\n",
       "      <td>카페디퍼</td>\n",
       "      <td>기타</td>\n",
       "      <td>204776.548264</td>\n",
       "      <td>444677.642985</td>\n",
       "    </tr>\n",
       "    <tr>\n",
       "      <th>5</th>\n",
       "      <td>1</td>\n",
       "      <td>서울특별시 동대문구 난계로30길 28-7 1층 (신설동)</td>\n",
       "      <td>메이크데이(MakeDay)</td>\n",
       "      <td>기타</td>\n",
       "      <td>202114.228397</td>\n",
       "      <td>452392.093759</td>\n",
       "    </tr>\n",
       "  </tbody>\n",
       "</table>\n",
       "</div>"
      ],
      "text/plain": [
       "   상세영업상태코드                                도로명주소            사업장명 업태구분명  \\\n",
       "1         1             서울특별시 종로구 삼일대로 382 (관철동)              상해    분식   \n",
       "2         1      서울특별시 관악구 신림로59길 15-13 4층 (신림동)              미쿠    일식   \n",
       "3         1        서울특별시 구로구 구로동로22길 21 1층 (구로동)      여름엔빙수겨울엔떡국    한식   \n",
       "4         1  서울특별시 강남구 삼성로85길 33 1층 102-2호 (대치동)            카페디퍼    기타   \n",
       "5         1      서울특별시 동대문구 난계로30길 28-7 1층 (신설동)  메이크데이(MakeDay)    기타   \n",
       "\n",
       "         좌표정보(X)        좌표정보(Y)  \n",
       "1  198867.702591  451824.281126  \n",
       "2  193687.348199  442284.164025  \n",
       "3  189814.305919  443046.239859  \n",
       "4  204776.548264  444677.642985  \n",
       "5  202114.228397  452392.093759  "
      ]
     },
     "execution_count": 6,
     "metadata": {},
     "output_type": "execute_result"
    }
   ],
   "source": [
    "df = df.dropna()\n",
    "df.head()"
   ]
  },
  {
   "cell_type": "markdown",
   "id": "194fddb6",
   "metadata": {},
   "source": [
    "### 3. 폐업 음식점 제거"
   ]
  },
  {
   "cell_type": "code",
   "execution_count": 7,
   "id": "aee21455",
   "metadata": {
    "id": "aee21455",
    "outputId": "9283187c-d271-4953-98cf-d3d297a2ba9d"
   },
   "outputs": [
    {
     "data": {
      "text/plain": [
       "1    121762\n",
       "2    101045\n",
       "Name: 상세영업상태코드, dtype: int64"
      ]
     },
     "execution_count": 7,
     "metadata": {},
     "output_type": "execute_result"
    }
   ],
   "source": [
    "df[\"상세영업상태코드\"].value_counts().sort_index()"
   ]
  },
  {
   "cell_type": "code",
   "execution_count": 8,
   "id": "46200e94",
   "metadata": {
    "id": "46200e94",
    "outputId": "16638715-91f0-4dd3-a392-bec5a0b675f1"
   },
   "outputs": [],
   "source": [
    "df = df[df[\"상세영업상태코드\"] == 1]"
   ]
  },
  {
   "cell_type": "code",
   "execution_count": 9,
   "id": "ee68ebc9",
   "metadata": {
    "scrolled": true
   },
   "outputs": [
    {
     "data": {
      "text/html": [
       "<div>\n",
       "<style scoped>\n",
       "    .dataframe tbody tr th:only-of-type {\n",
       "        vertical-align: middle;\n",
       "    }\n",
       "\n",
       "    .dataframe tbody tr th {\n",
       "        vertical-align: top;\n",
       "    }\n",
       "\n",
       "    .dataframe thead th {\n",
       "        text-align: right;\n",
       "    }\n",
       "</style>\n",
       "<table border=\"1\" class=\"dataframe\">\n",
       "  <thead>\n",
       "    <tr style=\"text-align: right;\">\n",
       "      <th></th>\n",
       "      <th>도로명주소</th>\n",
       "      <th>사업장명</th>\n",
       "      <th>업태구분명</th>\n",
       "      <th>좌표정보(X)</th>\n",
       "      <th>좌표정보(Y)</th>\n",
       "    </tr>\n",
       "  </thead>\n",
       "  <tbody>\n",
       "    <tr>\n",
       "      <th>1</th>\n",
       "      <td>서울특별시 종로구 삼일대로 382 (관철동)</td>\n",
       "      <td>상해</td>\n",
       "      <td>분식</td>\n",
       "      <td>198867.702591</td>\n",
       "      <td>451824.281126</td>\n",
       "    </tr>\n",
       "    <tr>\n",
       "      <th>2</th>\n",
       "      <td>서울특별시 관악구 신림로59길 15-13 4층 (신림동)</td>\n",
       "      <td>미쿠</td>\n",
       "      <td>일식</td>\n",
       "      <td>193687.348199</td>\n",
       "      <td>442284.164025</td>\n",
       "    </tr>\n",
       "    <tr>\n",
       "      <th>3</th>\n",
       "      <td>서울특별시 구로구 구로동로22길 21 1층 (구로동)</td>\n",
       "      <td>여름엔빙수겨울엔떡국</td>\n",
       "      <td>한식</td>\n",
       "      <td>189814.305919</td>\n",
       "      <td>443046.239859</td>\n",
       "    </tr>\n",
       "    <tr>\n",
       "      <th>4</th>\n",
       "      <td>서울특별시 강남구 삼성로85길 33 1층 102-2호 (대치동)</td>\n",
       "      <td>카페디퍼</td>\n",
       "      <td>기타</td>\n",
       "      <td>204776.548264</td>\n",
       "      <td>444677.642985</td>\n",
       "    </tr>\n",
       "    <tr>\n",
       "      <th>5</th>\n",
       "      <td>서울특별시 동대문구 난계로30길 28-7 1층 (신설동)</td>\n",
       "      <td>메이크데이(MakeDay)</td>\n",
       "      <td>기타</td>\n",
       "      <td>202114.228397</td>\n",
       "      <td>452392.093759</td>\n",
       "    </tr>\n",
       "  </tbody>\n",
       "</table>\n",
       "</div>"
      ],
      "text/plain": [
       "                                 도로명주소            사업장명 업태구분명        좌표정보(X)  \\\n",
       "1             서울특별시 종로구 삼일대로 382 (관철동)              상해    분식  198867.702591   \n",
       "2      서울특별시 관악구 신림로59길 15-13 4층 (신림동)              미쿠    일식  193687.348199   \n",
       "3        서울특별시 구로구 구로동로22길 21 1층 (구로동)      여름엔빙수겨울엔떡국    한식  189814.305919   \n",
       "4  서울특별시 강남구 삼성로85길 33 1층 102-2호 (대치동)            카페디퍼    기타  204776.548264   \n",
       "5      서울특별시 동대문구 난계로30길 28-7 1층 (신설동)  메이크데이(MakeDay)    기타  202114.228397   \n",
       "\n",
       "         좌표정보(Y)  \n",
       "1  451824.281126  \n",
       "2  442284.164025  \n",
       "3  443046.239859  \n",
       "4  444677.642985  \n",
       "5  452392.093759  "
      ]
     },
     "execution_count": 9,
     "metadata": {},
     "output_type": "execute_result"
    }
   ],
   "source": [
    "df[\"상세영업상태코드\"].value_counts().sort_index()\n",
    "df = df.drop(columns='상세영업상태코드')\n",
    "df.head()"
   ]
  },
  {
   "cell_type": "markdown",
   "id": "bddfafcb",
   "metadata": {},
   "source": [
    "### 4. 업종구분 재분류"
   ]
  },
  {
   "cell_type": "code",
   "execution_count": 10,
   "id": "53cee9df",
   "metadata": {
    "id": "53cee9df",
    "outputId": "0104909f-f3b4-437c-8439-5b1cdc471ec1"
   },
   "outputs": [
    {
     "data": {
      "text/plain": [
       "감성주점                223\n",
       "경양식                9228\n",
       "기타                17812\n",
       "김밥(도시락)             583\n",
       "까페                 2092\n",
       "냉면집                 103\n",
       "라이브카페               190\n",
       "복어취급                 51\n",
       "분식                 9048\n",
       "뷔페식                 457\n",
       "식육(숯불구이)            882\n",
       "외국음식전문점(인도태국등)     1370\n",
       "이동조리                  7\n",
       "일식                 6118\n",
       "전통찻집                 51\n",
       "정종/대포집/소주방         2229\n",
       "중국식                4531\n",
       "출장조리                100\n",
       "커피숍                   3\n",
       "키즈카페                 66\n",
       "탕류(보신용)             143\n",
       "통닭(치킨)             2530\n",
       "패밀리레스트랑             171\n",
       "패스트푸드               705\n",
       "한식                52145\n",
       "호프/통닭             10353\n",
       "회집                  276\n",
       "횟집                  295\n",
       "Name: 업태구분명, dtype: int64"
      ]
     },
     "execution_count": 10,
     "metadata": {},
     "output_type": "execute_result"
    }
   ],
   "source": [
    "df[\"업태구분명\"].value_counts().sort_index()"
   ]
  },
  {
   "cell_type": "code",
   "execution_count": 11,
   "id": "cc9c58cf",
   "metadata": {
    "scrolled": true
   },
   "outputs": [
    {
     "data": {
      "text/html": [
       "<div>\n",
       "<style scoped>\n",
       "    .dataframe tbody tr th:only-of-type {\n",
       "        vertical-align: middle;\n",
       "    }\n",
       "\n",
       "    .dataframe tbody tr th {\n",
       "        vertical-align: top;\n",
       "    }\n",
       "\n",
       "    .dataframe thead th {\n",
       "        text-align: right;\n",
       "    }\n",
       "</style>\n",
       "<table border=\"1\" class=\"dataframe\">\n",
       "  <thead>\n",
       "    <tr style=\"text-align: right;\">\n",
       "      <th></th>\n",
       "      <th>도로명주소</th>\n",
       "      <th>사업장명</th>\n",
       "      <th>업종</th>\n",
       "      <th>좌표정보(X)</th>\n",
       "      <th>좌표정보(Y)</th>\n",
       "    </tr>\n",
       "  </thead>\n",
       "  <tbody>\n",
       "    <tr>\n",
       "      <th>1</th>\n",
       "      <td>서울특별시 종로구 삼일대로 382 (관철동)</td>\n",
       "      <td>상해</td>\n",
       "      <td>분식</td>\n",
       "      <td>198867.702591</td>\n",
       "      <td>451824.281126</td>\n",
       "    </tr>\n",
       "    <tr>\n",
       "      <th>2</th>\n",
       "      <td>서울특별시 관악구 신림로59길 15-13 4층 (신림동)</td>\n",
       "      <td>미쿠</td>\n",
       "      <td>일식</td>\n",
       "      <td>193687.348199</td>\n",
       "      <td>442284.164025</td>\n",
       "    </tr>\n",
       "    <tr>\n",
       "      <th>3</th>\n",
       "      <td>서울특별시 구로구 구로동로22길 21 1층 (구로동)</td>\n",
       "      <td>여름엔빙수겨울엔떡국</td>\n",
       "      <td>한식</td>\n",
       "      <td>189814.305919</td>\n",
       "      <td>443046.239859</td>\n",
       "    </tr>\n",
       "    <tr>\n",
       "      <th>4</th>\n",
       "      <td>서울특별시 강남구 삼성로85길 33 1층 102-2호 (대치동)</td>\n",
       "      <td>카페디퍼</td>\n",
       "      <td>카페</td>\n",
       "      <td>204776.548264</td>\n",
       "      <td>444677.642985</td>\n",
       "    </tr>\n",
       "    <tr>\n",
       "      <th>5</th>\n",
       "      <td>서울특별시 동대문구 난계로30길 28-7 1층 (신설동)</td>\n",
       "      <td>메이크데이(MakeDay)</td>\n",
       "      <td>카페</td>\n",
       "      <td>202114.228397</td>\n",
       "      <td>452392.093759</td>\n",
       "    </tr>\n",
       "  </tbody>\n",
       "</table>\n",
       "</div>"
      ],
      "text/plain": [
       "                                 도로명주소            사업장명  업종        좌표정보(X)  \\\n",
       "1             서울특별시 종로구 삼일대로 382 (관철동)              상해  분식  198867.702591   \n",
       "2      서울특별시 관악구 신림로59길 15-13 4층 (신림동)              미쿠  일식  193687.348199   \n",
       "3        서울특별시 구로구 구로동로22길 21 1층 (구로동)      여름엔빙수겨울엔떡국  한식  189814.305919   \n",
       "4  서울특별시 강남구 삼성로85길 33 1층 102-2호 (대치동)            카페디퍼  카페  204776.548264   \n",
       "5      서울특별시 동대문구 난계로30길 28-7 1층 (신설동)  메이크데이(MakeDay)  카페  202114.228397   \n",
       "\n",
       "         좌표정보(Y)  \n",
       "1  451824.281126  \n",
       "2  442284.164025  \n",
       "3  443046.239859  \n",
       "4  444677.642985  \n",
       "5  452392.093759  "
      ]
     },
     "execution_count": 11,
     "metadata": {},
     "output_type": "execute_result"
    }
   ],
   "source": [
    "a = [['경양식','뷔페식','패밀리레스트랑'], #양식\n",
    "     ['회집','횟집','복어취급'], #해산물\n",
    "     ['분식','냉면집','김밥(도시락)'], #분식\n",
    "     ['통닭(치킨)','호프/통닭'], #치킨\n",
    "     ['한식','탕류(보신용)'], #한식\n",
    "     ['커피숍','까페','키즈카페','라이브카페','전통찻집','기타'], #카페\n",
    "     ['정종/대포집/소주방','감성주점'], #술집\n",
    "     ['식육(숯불구이)'], #고기\n",
    "     ['중국식'], #중식\n",
    "     ['외국음식전문점(인도태국등)'], #외국음식\n",
    "     ['출장조리','이동조리']] #error\n",
    "# 일식, 패스트푸드 그대로 사용\n",
    "\n",
    "b = ['양식','해산물','분식','치킨','한식','카페','술집','고기','중식','외국음식','error']\n",
    "\n",
    "food_list = df[\"업태구분명\"].to_list()\n",
    "for i,j in enumerate(food_list):\n",
    "    for x,y in enumerate(a):\n",
    "        if j in y:\n",
    "            food_list[i] = b[x]\n",
    "            \n",
    "df.insert(3,'업종',food_list)\n",
    "df = df.drop(columns='업태구분명')\n",
    "df = df[df['업종'] != 'error']\n",
    "df.head()"
   ]
  },
  {
   "cell_type": "markdown",
   "id": "b08e86d5",
   "metadata": {},
   "source": [
    "### 5. 도로명주소에서 자치구, 자치동 분류"
   ]
  },
  {
   "cell_type": "code",
   "execution_count": 12,
   "id": "95c4903a",
   "metadata": {
    "scrolled": false
   },
   "outputs": [
    {
     "data": {
      "text/plain": [
       "['서울특별시 종로구 삼일대로 382 (관철동)',\n",
       " '서울특별시 관악구 신림로59길 15-13 4층 (신림동)',\n",
       " '서울특별시 구로구 구로동로22길 21 1층 (구로동)',\n",
       " '서울특별시 강남구 삼성로85길 33 1층 102-2호 (대치동)',\n",
       " '서울특별시 동대문구 난계로30길 28-7 1층 (신설동)']"
      ]
     },
     "execution_count": 12,
     "metadata": {},
     "output_type": "execute_result"
    }
   ],
   "source": [
    "address_list = df['도로명주소'].to_list()\n",
    "address_list[:5]"
   ]
  },
  {
   "cell_type": "code",
   "execution_count": 13,
   "id": "b1cb43ae",
   "metadata": {
    "scrolled": false
   },
   "outputs": [
    {
     "data": {
      "text/plain": [
       "['종로구', '관악구', '구로구', '강남구', '동대문구']"
      ]
     },
     "execution_count": 13,
     "metadata": {},
     "output_type": "execute_result"
    }
   ],
   "source": [
    "gu_list = [address_list[i].split()[1] for i in range(len(address_list))]\n",
    "gu_list[:5]"
   ]
  },
  {
   "cell_type": "code",
   "execution_count": 14,
   "id": "f0872ee1",
   "metadata": {
    "scrolled": true
   },
   "outputs": [
    {
     "data": {
      "text/plain": [
       "['관철동', '신림동', '구로동', '대치동', '신설동']"
      ]
     },
     "execution_count": 14,
     "metadata": {},
     "output_type": "execute_result"
    }
   ],
   "source": [
    "dong_list = []\n",
    "for i in range(len(address_list)):\n",
    "    try:\n",
    "        dong_list.append(re.findall('\\(.+동',address_list[i])[0].split()[0][1:].split('(')[0]) #정규표현식\n",
    "    except:\n",
    "        dong_list.append('error')\n",
    "dong_list[:5]"
   ]
  },
  {
   "cell_type": "code",
   "execution_count": 15,
   "id": "289a01be",
   "metadata": {
    "scrolled": false
   },
   "outputs": [],
   "source": [
    "cnt_list = Counter(dong_list)\n",
    "error_list = [i for i in cnt_list if cnt_list[i] < 50]\n",
    "\n",
    "for i,j in enumerate(dong_list):\n",
    "    if j in error_list:\n",
    "        dong_list[i] = 'error'"
   ]
  },
  {
   "cell_type": "code",
   "execution_count": 16,
   "id": "a7579f9e",
   "metadata": {},
   "outputs": [
    {
     "data": {
      "text/plain": [
       "Counter({'관철동': 360,\n",
       "         '신림동': 2407,\n",
       "         '구로동': 2094,\n",
       "         '대치동': 1350,\n",
       "         '신설동': 208,\n",
       "         '응암동': 707,\n",
       "         '논현동': 2016,\n",
       "         '수유동': 1448,\n",
       "         '일부)호': 64,\n",
       "         '역삼동': 3050,\n",
       "         '상봉동': 618,\n",
       "         '잠원동': 463,\n",
       "         '화곡동': 2210,\n",
       "         '양평동': 587,\n",
       "         '암사동': 427,\n",
       "         '창신동': 430,\n",
       "         '성수동': 1641,\n",
       "         '봉천동': 2150,\n",
       "         '공릉동': 757,\n",
       "         'error': 7600,\n",
       "         '성내동': 1001,\n",
       "         '필동': 255,\n",
       "         '종암동': 278,\n",
       "         '창동': 788,\n",
       "         '서계동': 98,\n",
       "         '우이동': 168,\n",
       "         '도곡동': 495,\n",
       "         '화양동': 887,\n",
       "         '송파동': 557,\n",
       "         '상일동': 167,\n",
       "         '마곡동': 852,\n",
       "         '서초동': 2143,\n",
       "         '영등포동': 993,\n",
       "         '천호동': 1053,\n",
       "         '연남동': 718,\n",
       "         '신천동': 412,\n",
       "         '잠실동': 1006,\n",
       "         '신사동': 2247,\n",
       "         '가산동': 1008,\n",
       "         '공덕동': 385,\n",
       "         '금호동': 360,\n",
       "         '제기동': 443,\n",
       "         '상수동': 327,\n",
       "         '진관동': 298,\n",
       "         '서교동': 1817,\n",
       "         '중화동': 424,\n",
       "         '문정동': 1042,\n",
       "         '상계동': 1665,\n",
       "         '염리동': 143,\n",
       "         '한남동': 731,\n",
       "         '삼청동': 95,\n",
       "         '양재동': 977,\n",
       "         '미아동': 1438,\n",
       "         '군자동': 327,\n",
       "         '반포동': 794,\n",
       "         '삼전동': 322,\n",
       "         '사당동': 948,\n",
       "         '구의동': 880,\n",
       "         '구산동': 118,\n",
       "         '동선동': 490,\n",
       "         '가리봉동': 208,\n",
       "         '청담동': 955,\n",
       "         '자곡동': 66,\n",
       "         '중곡동': 862,\n",
       "         '광장동': 169,\n",
       "         '창전동': 137,\n",
       "         '보광동': 184,\n",
       "         '석촌동': 572,\n",
       "         '대림동': 892,\n",
       "         '용답동': 199,\n",
       "         '용두동': 348,\n",
       "         '독산동': 1060,\n",
       "         '하월곡동': 411,\n",
       "         '흥인동': 86,\n",
       "         '망원동': 662,\n",
       "         '방이동': 913,\n",
       "         '시흥동': 846,\n",
       "         '당산동': 848,\n",
       "         '신정동': 1054,\n",
       "         '가양동': 214,\n",
       "         '목동': 1154,\n",
       "         '성북동': 136,\n",
       "         '북아현동': 143,\n",
       "         '면목동': 1447,\n",
       "         '방배동': 1137,\n",
       "         '번동': 437,\n",
       "         '오류동': 318,\n",
       "         '마천동': 318,\n",
       "         '하왕십리동': 178,\n",
       "         '쌍문동': 476,\n",
       "         '망우동': 520,\n",
       "         '성산동': 395,\n",
       "         '묵동': 426,\n",
       "         '신내동': 323,\n",
       "         '등촌동': 682,\n",
       "         '삼성동': 1199,\n",
       "         '창천동': 840,\n",
       "         '이태원동': 1015,\n",
       "         '상도1동': 112,\n",
       "         '남현동': 194,\n",
       "         '도림동': 133,\n",
       "         '압구정동': 93,\n",
       "         '방화동': 724,\n",
       "         '후암동': 181,\n",
       "         '답십리동': 378,\n",
       "         '신대방동': 333,\n",
       "         '하계동': 186,\n",
       "         '녹번동': 256,\n",
       "         '냉천동': 79,\n",
       "         '공항동': 311,\n",
       "         '여의도동': 1616,\n",
       "         '석관동': 346,\n",
       "         '신당동': 979,\n",
       "         '흑석동': 346,\n",
       "         '불광동': 442,\n",
       "         '명일동': 382,\n",
       "         '정릉동': 510,\n",
       "         '전농동': 462,\n",
       "         '내발산동': 305,\n",
       "         '동소문동': 243,\n",
       "         '능동': 132,\n",
       "         '상월곡동': 67,\n",
       "         '연희동': 397,\n",
       "         '가락동': 933,\n",
       "         '중계동': 555,\n",
       "         '홍제동': 463,\n",
       "         '낙원동': 221,\n",
       "         '평창동': 76,\n",
       "         '장충동': 146,\n",
       "         '장지동': 164,\n",
       "         '고덕동': 193,\n",
       "         '장안동': 980,\n",
       "         '용산동': 285,\n",
       "         '장위동': 321,\n",
       "         '갈현동': 691,\n",
       "         '신월동': 942,\n",
       "         '신길동': 819,\n",
       "         '염창동': 229,\n",
       "         '저동': 132,\n",
       "         '상도동': 664,\n",
       "         '문래동': 558,\n",
       "         '명동': 224,\n",
       "         '북가좌동': 285,\n",
       "         '청파동': 248,\n",
       "         '이문동': 390,\n",
       "         '우면동': 84,\n",
       "         '통의동': 73,\n",
       "         '오금동': 274,\n",
       "         '마장동': 165,\n",
       "         '노량진동': 500,\n",
       "         '내수동': 119,\n",
       "         '연지동': 60,\n",
       "         '거여동': 230,\n",
       "         '용문동': 91,\n",
       "         '숭인동': 298,\n",
       "         '재동': 74,\n",
       "         '구기동': 51,\n",
       "         '옥수동': 134,\n",
       "         '관훈동': 193,\n",
       "         '동숭동': 251,\n",
       "         '청진동': 160,\n",
       "         '관수동': 96,\n",
       "         '당주동': 169,\n",
       "         '연건동': 66,\n",
       "         '인사동': 142,\n",
       "         '수송동': 116,\n",
       "         '필운동': 75,\n",
       "         '내자동': 89,\n",
       "         '이화동': 51,\n",
       "         '인의동': 65,\n",
       "         '적선동': 76,\n",
       "         '익선동': 148,\n",
       "         '효제동': 100,\n",
       "         '돈의동': 126,\n",
       "         '동교동': 569,\n",
       "         '부암동': 63,\n",
       "         '통인동': 83,\n",
       "         '체부동': 90,\n",
       "         '남가좌동': 399,\n",
       "         '묘동': 70,\n",
       "         '혜화동': 97,\n",
       "         '계동': 70,\n",
       "         '도화동': 466,\n",
       "         '남영동': 140,\n",
       "         '대방동': 218,\n",
       "         '회현동': 161,\n",
       "         '자양동': 1031,\n",
       "         '행당동': 598,\n",
       "         '도선동': 146,\n",
       "         '합정동': 526,\n",
       "         '역촌동': 392,\n",
       "         '고척동': 457,\n",
       "         '둔촌동': 193,\n",
       "         '청량리동': 250,\n",
       "         '대현동': 264,\n",
       "         '상왕십리동': 56,\n",
       "         '송정동': 74,\n",
       "         '휘경동': 263,\n",
       "         '길음동': 225,\n",
       "         '북창동': 126,\n",
       "         '순화동': 73,\n",
       "         '황학동': 289,\n",
       "         '회기동': 373,\n",
       "         '삼선동': 230,\n",
       "         '노고산동': 166,\n",
       "         '홍은동': 356,\n",
       "         '동자동': 168,\n",
       "         '다동': 152,\n",
       "         '개포동': 391,\n",
       "         '세곡동': 75,\n",
       "         '상암동': 637,\n",
       "         '길동': 602,\n",
       "         '방학동': 637,\n",
       "         '풍납동': 226,\n",
       "         '강일동': 55,\n",
       "         '무교동': 63,\n",
       "         '남창동': 153,\n",
       "         '정동': 74,\n",
       "         '광희동': 108,\n",
       "         '소공동': 67,\n",
       "         '오장동': 53,\n",
       "         '수표동': 54,\n",
       "         '중림동': 160,\n",
       "         '남산동': 93,\n",
       "         '초동': 104,\n",
       "         '서소문동': 139,\n",
       "         '주교동': 74,\n",
       "         '대흥동': 189,\n",
       "         '인현동': 105,\n",
       "         '일원동': 212,\n",
       "         '안암동': 391,\n",
       "         '도봉동': 465,\n",
       "         '대조동': 415,\n",
       "         '신수동': 160,\n",
       "         '개봉동': 482,\n",
       "         '이촌동': 175,\n",
       "         '보문동': 137,\n",
       "         '갈월동': 107,\n",
       "         '용강동': 165,\n",
       "         '신도림동': 244,\n",
       "         '월계동': 452,\n",
       "         '홍익동': 97,\n",
       "         '아현동': 165,\n",
       "         '신공덕동': 68,\n",
       "         '돈암동': 71,\n",
       "         '수색동': 87,\n",
       "         '증산동': 142,\n",
       "         '수서동': 179,\n",
       "         '미근동': 71,\n",
       "         '온수동': 52,\n",
       "         '궁동': 56})"
      ]
     },
     "execution_count": 16,
     "metadata": {},
     "output_type": "execute_result"
    }
   ],
   "source": [
    "Counter(dong_list)"
   ]
  },
  {
   "cell_type": "code",
   "execution_count": 17,
   "id": "53829697",
   "metadata": {},
   "outputs": [
    {
     "data": {
      "text/html": [
       "<div>\n",
       "<style scoped>\n",
       "    .dataframe tbody tr th:only-of-type {\n",
       "        vertical-align: middle;\n",
       "    }\n",
       "\n",
       "    .dataframe tbody tr th {\n",
       "        vertical-align: top;\n",
       "    }\n",
       "\n",
       "    .dataframe thead th {\n",
       "        text-align: right;\n",
       "    }\n",
       "</style>\n",
       "<table border=\"1\" class=\"dataframe\">\n",
       "  <thead>\n",
       "    <tr style=\"text-align: right;\">\n",
       "      <th></th>\n",
       "      <th>도로명주소</th>\n",
       "      <th>구</th>\n",
       "      <th>동</th>\n",
       "      <th>사업장명</th>\n",
       "      <th>업종</th>\n",
       "      <th>좌표정보(X)</th>\n",
       "      <th>좌표정보(Y)</th>\n",
       "    </tr>\n",
       "  </thead>\n",
       "  <tbody>\n",
       "    <tr>\n",
       "      <th>1</th>\n",
       "      <td>서울특별시 종로구 삼일대로 382 (관철동)</td>\n",
       "      <td>종로구</td>\n",
       "      <td>관철동</td>\n",
       "      <td>상해</td>\n",
       "      <td>분식</td>\n",
       "      <td>198867.702591</td>\n",
       "      <td>451824.281126</td>\n",
       "    </tr>\n",
       "    <tr>\n",
       "      <th>2</th>\n",
       "      <td>서울특별시 관악구 신림로59길 15-13 4층 (신림동)</td>\n",
       "      <td>관악구</td>\n",
       "      <td>신림동</td>\n",
       "      <td>미쿠</td>\n",
       "      <td>일식</td>\n",
       "      <td>193687.348199</td>\n",
       "      <td>442284.164025</td>\n",
       "    </tr>\n",
       "    <tr>\n",
       "      <th>3</th>\n",
       "      <td>서울특별시 구로구 구로동로22길 21 1층 (구로동)</td>\n",
       "      <td>구로구</td>\n",
       "      <td>구로동</td>\n",
       "      <td>여름엔빙수겨울엔떡국</td>\n",
       "      <td>한식</td>\n",
       "      <td>189814.305919</td>\n",
       "      <td>443046.239859</td>\n",
       "    </tr>\n",
       "    <tr>\n",
       "      <th>4</th>\n",
       "      <td>서울특별시 강남구 삼성로85길 33 1층 102-2호 (대치동)</td>\n",
       "      <td>강남구</td>\n",
       "      <td>대치동</td>\n",
       "      <td>카페디퍼</td>\n",
       "      <td>카페</td>\n",
       "      <td>204776.548264</td>\n",
       "      <td>444677.642985</td>\n",
       "    </tr>\n",
       "    <tr>\n",
       "      <th>5</th>\n",
       "      <td>서울특별시 동대문구 난계로30길 28-7 1층 (신설동)</td>\n",
       "      <td>동대문구</td>\n",
       "      <td>신설동</td>\n",
       "      <td>메이크데이(MakeDay)</td>\n",
       "      <td>카페</td>\n",
       "      <td>202114.228397</td>\n",
       "      <td>452392.093759</td>\n",
       "    </tr>\n",
       "  </tbody>\n",
       "</table>\n",
       "</div>"
      ],
      "text/plain": [
       "                                 도로명주소     구    동            사업장명  업종  \\\n",
       "1             서울특별시 종로구 삼일대로 382 (관철동)   종로구  관철동              상해  분식   \n",
       "2      서울특별시 관악구 신림로59길 15-13 4층 (신림동)   관악구  신림동              미쿠  일식   \n",
       "3        서울특별시 구로구 구로동로22길 21 1층 (구로동)   구로구  구로동      여름엔빙수겨울엔떡국  한식   \n",
       "4  서울특별시 강남구 삼성로85길 33 1층 102-2호 (대치동)   강남구  대치동            카페디퍼  카페   \n",
       "5      서울특별시 동대문구 난계로30길 28-7 1층 (신설동)  동대문구  신설동  메이크데이(MakeDay)  카페   \n",
       "\n",
       "         좌표정보(X)        좌표정보(Y)  \n",
       "1  198867.702591  451824.281126  \n",
       "2  193687.348199  442284.164025  \n",
       "3  189814.305919  443046.239859  \n",
       "4  204776.548264  444677.642985  \n",
       "5  202114.228397  452392.093759  "
      ]
     },
     "execution_count": 17,
     "metadata": {},
     "output_type": "execute_result"
    }
   ],
   "source": [
    "df.insert(1,'구',gu_list)\n",
    "df.insert(2,'동',dong_list)\n",
    "df.head()"
   ]
  },
  {
   "cell_type": "code",
   "execution_count": 18,
   "id": "8c02d431",
   "metadata": {},
   "outputs": [],
   "source": [
    "df = df.drop(columns='도로명주소')\n",
    "df = df[df['동'] != 'error']"
   ]
  },
  {
   "cell_type": "markdown",
   "id": "22bbe56e",
   "metadata": {},
   "source": [
    "### 6. 전처리 후 간단한 시각화"
   ]
  },
  {
   "cell_type": "code",
   "execution_count": 19,
   "id": "7e1dbe8c",
   "metadata": {},
   "outputs": [
    {
     "data": {
      "image/png": "[encoded data removed]",
      "text/plain": [
       "<Figure size 1296x360 with 1 Axes>"
      ]
     },
     "metadata": {
      "needs_background": "light"
     },
     "output_type": "display_data"
    }
   ],
   "source": [
    "plt.figure(figsize=(18,5))\n",
    "plt.rcParams['font.family'] = 'Malgun Gothic'\n",
    "sns.countplot(df['구'])\n",
    "plt.show()"
   ]
  },
  {
   "cell_type": "code",
   "execution_count": 20,
   "id": "ca016bab",
   "metadata": {},
   "outputs": [
    {
     "data": {
      "image/png": "[encoded data removed]",
      "text/plain": [
       "<Figure size 1080x360 with 1 Axes>"
      ]
     },
     "metadata": {
      "needs_background": "light"
     },
     "output_type": "display_data"
    }
   ],
   "source": [
    "plt.figure(figsize=(15,5))\n",
    "plt.rcParams['font.family'] = 'Malgun Gothic'\n",
    "sns.countplot(df['업종'])\n",
    "plt.show()"
   ]
  },
  {
   "cell_type": "code",
   "execution_count": 21,
   "id": "74a67f71",
   "metadata": {},
   "outputs": [
    {
     "data": {
      "text/html": [
       "<div>\n",
       "<style scoped>\n",
       "    .dataframe tbody tr th:only-of-type {\n",
       "        vertical-align: middle;\n",
       "    }\n",
       "\n",
       "    .dataframe tbody tr th {\n",
       "        vertical-align: top;\n",
       "    }\n",
       "\n",
       "    .dataframe thead th {\n",
       "        text-align: right;\n",
       "    }\n",
       "</style>\n",
       "<table border=\"1\" class=\"dataframe\">\n",
       "  <thead>\n",
       "    <tr style=\"text-align: right;\">\n",
       "      <th></th>\n",
       "      <th>구</th>\n",
       "      <th>동</th>\n",
       "      <th>사업장명</th>\n",
       "      <th>업종</th>\n",
       "      <th>좌표정보(X)</th>\n",
       "      <th>좌표정보(Y)</th>\n",
       "    </tr>\n",
       "  </thead>\n",
       "  <tbody>\n",
       "    <tr>\n",
       "      <th>0</th>\n",
       "      <td>종로구</td>\n",
       "      <td>관철동</td>\n",
       "      <td>상해</td>\n",
       "      <td>분식</td>\n",
       "      <td>198867.702591</td>\n",
       "      <td>451824.281126</td>\n",
       "    </tr>\n",
       "    <tr>\n",
       "      <th>1</th>\n",
       "      <td>관악구</td>\n",
       "      <td>신림동</td>\n",
       "      <td>미쿠</td>\n",
       "      <td>일식</td>\n",
       "      <td>193687.348199</td>\n",
       "      <td>442284.164025</td>\n",
       "    </tr>\n",
       "    <tr>\n",
       "      <th>2</th>\n",
       "      <td>구로구</td>\n",
       "      <td>구로동</td>\n",
       "      <td>여름엔빙수겨울엔떡국</td>\n",
       "      <td>한식</td>\n",
       "      <td>189814.305919</td>\n",
       "      <td>443046.239859</td>\n",
       "    </tr>\n",
       "    <tr>\n",
       "      <th>3</th>\n",
       "      <td>강남구</td>\n",
       "      <td>대치동</td>\n",
       "      <td>카페디퍼</td>\n",
       "      <td>카페</td>\n",
       "      <td>204776.548264</td>\n",
       "      <td>444677.642985</td>\n",
       "    </tr>\n",
       "    <tr>\n",
       "      <th>4</th>\n",
       "      <td>동대문구</td>\n",
       "      <td>신설동</td>\n",
       "      <td>메이크데이(MakeDay)</td>\n",
       "      <td>카페</td>\n",
       "      <td>202114.228397</td>\n",
       "      <td>452392.093759</td>\n",
       "    </tr>\n",
       "  </tbody>\n",
       "</table>\n",
       "</div>"
      ],
      "text/plain": [
       "      구    동            사업장명  업종        좌표정보(X)        좌표정보(Y)\n",
       "0   종로구  관철동              상해  분식  198867.702591  451824.281126\n",
       "1   관악구  신림동              미쿠  일식  193687.348199  442284.164025\n",
       "2   구로구  구로동      여름엔빙수겨울엔떡국  한식  189814.305919  443046.239859\n",
       "3   강남구  대치동            카페디퍼  카페  204776.548264  444677.642985\n",
       "4  동대문구  신설동  메이크데이(MakeDay)  카페  202114.228397  452392.093759"
      ]
     },
     "execution_count": 21,
     "metadata": {},
     "output_type": "execute_result"
    }
   ],
   "source": [
    "df = df.reset_index(drop=True)\n",
    "df.head()"
   ]
  },
  {
   "cell_type": "markdown",
   "id": "362da246",
   "metadata": {},
   "source": [
    "### 자치구, 자치동, 음식종류 입력받아 음식점 리스트 반환 (이부분은 안쓰셔도 될거 같습니다 현경님)"
   ]
  },
  {
   "cell_type": "code",
   "execution_count": 22,
   "id": "47f26de0",
   "metadata": {
    "scrolled": true
   },
   "outputs": [],
   "source": [
    "# print('자치구 목록:', end= ' ')\n",
    "# for i in list(df['구'].unique()):\n",
    "#     print(i, end=', ')\n",
    "# print()\n",
    "# print('원하시는 자치구를 입력해주세요:')\n",
    "# gu = input()\n",
    "\n",
    "# print('자치동 목록:', end=' ')\n",
    "# for i in list(df[df['구'] == gu]['동'].unique()):\n",
    "#     print(i, end=', ')\n",
    "# print()\n",
    "# print('원하시는 자치동을 입력해주세요:')\n",
    "# dong = input()\n",
    "\n",
    "# print('음식종류 목록: 상관없음', end=', ')\n",
    "# for i in list(df['업종'].unique()):\n",
    "#     print(i, end=', ')\n",
    "# print()\n",
    "# print('원하시는 음식종류를 입력해주세요:')\n",
    "# food = input()\n",
    "\n",
    "# if food == '상관없음':\n",
    "#     food_list = df[df['구'] == gu][df['동'] == dong]['사업장명'].tolist()\n",
    "# else:\n",
    "#     food_list = df[df['구'] == gu][df['동'] == dong][df['업종'] == food]['사업장명'].tolist()\n",
    "\n",
    "# keyword_list = [gu+' '+dong+' '+i for i in food_list]\n",
    "#동작구 흑석동 상관없음"
   ]
  },
  {
   "cell_type": "markdown",
   "id": "cdd449be",
   "metadata": {},
   "source": [
    "### 전처리 데이터 저장"
   ]
  },
  {
   "cell_type": "code",
   "execution_count": 23,
   "id": "587000aa",
   "metadata": {},
   "outputs": [],
   "source": [
    "# df.to_csv('./seoul_food.csv',encoding='cp949',index=False)"
   ]
  },
  {
   "cell_type": "code",
   "execution_count": null,
   "id": "81115f2d",
   "metadata": {},
   "outputs": [],
   "source": []
  },
  {
   "cell_type": "code",
   "execution_count": null,
   "id": "954260e5",
   "metadata": {},
   "outputs": [],
   "source": []
  }
 ],
 "metadata": {
  "colab": {
   "name": "전처리_.ipynb",
   "provenance": []
  },
  "kernelspec": {
   "display_name": "Python 3 (ipykernel)",
   "language": "python",
   "name": "python3"
  },
  "language_info": {
   "codemirror_mode": {
    "name": "ipython",
    "version": 3
   },
   "file_extension": ".py",
   "mimetype": "text/x-python",
   "name": "python",
   "nbconvert_exporter": "python",
   "pygments_lexer": "ipython3",
   "version": "3.9.7"
  }
 },
 "nbformat": 4,
 "nbformat_minor": 5
}
