{
 "cells": [
  {
   "cell_type": "code",
   "execution_count": 9,
   "id": "d66e0e71",
   "metadata": {},
   "outputs": [],
   "source": [
    "## Mysql접속, investarDB에 Table 생성\n",
    "\n",
    "import pymysql\n",
    "\n",
    "conn = pymysql.connect(host='localhost', user='root', password='1111', db='investar0221', charset='utf8')\n",
    "cur = conn.cursor()\n",
    "a = \"create table if not exists company_info (code varchar(20),company varchar(40),last_update date,primary key (code))\"\n",
    "cur.execute(a)\n",
    "b = \"create table if not exists daily_price (code varchar(20),date date,open bigint(20),\\\n",
    "high bigint(20),low bigint(20),close bigint(20),diff bigint(20),volume bigint(20),primary key (code, date))\"\n",
    "cur.execute(b)\n",
    "conn.commit()\n",
    "conn.close()"
   ]
  },
  {
   "cell_type": "code",
   "execution_count": 10,
   "id": "30f2b4c1",
   "metadata": {},
   "outputs": [],
   "source": [
    "## KRX에서 데이터 읽어서 DF로 저장\n",
    "\n",
    "import pandas as pd\n",
    "\n",
    "url = 'http://kind.krx.co.kr/corpgeneral/corpList.do?method=download&searchType=13'\n",
    "krx = pd.read_html(url, header=0)[0]\n",
    "krx = krx[['종목코드','회사명']]\n",
    "krx = krx.rename(columns={'종목코드':'code','회사명':'company'})\n",
    "krx.code = krx.code.map('{:06d}'.format)"
   ]
  },
  {
   "cell_type": "code",
   "execution_count": 11,
   "id": "2d021b1a",
   "metadata": {},
   "outputs": [],
   "source": [
    "## 종목코드 company_info에 저장\n",
    "\n",
    "from datetime import datetime\n",
    "\n",
    "conn = pymysql.connect(host='localhost', user='root', password='1111', db='investar0221', charset='utf8')\n",
    "cur = conn.cursor()\n",
    "sql = \"select max(last_update) from company_info\"\n",
    "cur.execute(sql)\n",
    "rs = cur.fetchone()\n",
    "today = datetime.today().strftime('%Y-%m-%d')\n",
    "if rs[0] == None or str(rs[0]) < today:\n",
    "    for i in range(len(krx)):\n",
    "        code = krx.code.values[i]\n",
    "        company = krx.company.values[i]\n",
    "        sql = f\"replace into company_info (code, company, last_update) values ('{code}','{company}','{today}')\"\n",
    "        cur.execute(sql)\n",
    "conn.commit()\n",
    "conn.close()"
   ]
  },
  {
   "cell_type": "code",
   "execution_count": 12,
   "id": "2b64f931",
   "metadata": {},
   "outputs": [],
   "source": [
    "## 네이버에서 파싱\n",
    "\n",
    "import requests\n",
    "import bs4\n",
    "from bs4 import BeautifulSoup\n",
    "\n",
    "url = \"http://finance.naver.com/item/sise_day.nhn?code=000210\"\n",
    "res = requests.get(url, headers={'User-agent':'Mozilla/5.0'})\n",
    "soup = BeautifulSoup(res.text,'html.parser')\n",
    "html = BeautifulSoup(requests.get(url,headers={'User-agent': 'Mozilla/5.0'}).text, 'html.parser') ## soup = html"
   ]
  },
  {
   "cell_type": "code",
   "execution_count": 13,
   "id": "9db96417",
   "metadata": {},
   "outputs": [],
   "source": [
    "## 맨끝 페이지수 읽기\n",
    "\n",
    "pgrr = soup.find('td', {'class':'pgRR'}) \n",
    "s = str(pgrr.a['href']).split('=')\n",
    "lastpage = int(s[-1])"
   ]
  },
  {
   "cell_type": "code",
   "execution_count": 40,
   "id": "a91de784",
   "metadata": {},
   "outputs": [
    {
     "name": "stdout",
     "output_type": "stream",
     "text": [
      "[2022-02-21 18:40] 회사 (000210) : 0005/0645 pages are downloading...\r"
     ]
    }
   ],
   "source": [
    "## 1페이지부터 끝페이지까지 읽어서 DF에 넣기\n",
    "\n",
    "df = pd.DataFrame() \n",
    "company = '회사'\n",
    "code = '000210'\n",
    "for page in range(1, 6): ## (5 대신 lastpage+1)\n",
    "    pg_url='http://finance.naver.com/item/sise_day.nhn?code={}&page={}'.format(code,page)\n",
    "    df = df.append(pd.read_html(requests.get(pg_url,headers={'User-agent': 'Mozilla/5.0'}).text)[0])\n",
    "    timenow = datetime.now().strftime('%Y-%m-%d %H:%M')\n",
    "    print('[{}] {} ({}) : {:04d}/{:04d} pages are downloading...'.format(timenow, company, code, page, lastpage), end=\"\\r\")"
   ]
  },
  {
   "cell_type": "code",
   "execution_count": 43,
   "id": "a891dae9",
   "metadata": {},
   "outputs": [
    {
     "name": "stderr",
     "output_type": "stream",
     "text": [
      "C:\\Users\\User\\AppData\\Local\\Temp/ipykernel_14136/3307289217.py:4: FutureWarning: The default value of regex will change from True to False in a future version. In addition, single character regular expressions will *not* be treated as literal strings when regex=True.\n",
      "  df['date']=df['date'].str.replace('.', '-')\n"
     ]
    }
   ],
   "source": [
    "## DF파일 전처리 작업\n",
    "\n",
    "df = df.rename(columns={'날짜':'date','종가':'close','전일비':'diff','시가':'open','고가':'high','저가':'low','거래량':'volume'})\n",
    "df['date']=df['date'].str.replace('.', '-')\n",
    "df = df.dropna() ## NaN값 삭제\n",
    "df[['close', 'diff', 'open', 'high', 'low', 'volume']] = df[['close','diff', 'open', 'high', 'low', 'volume']].astype(int) ## 정수로\n",
    "df = df[['date', 'open', 'high', 'low', 'close', 'diff', 'volume']] ## DF 컬럼 순서 변경"
   ]
  },
  {
   "cell_type": "code",
   "execution_count": 46,
   "id": "54179c66",
   "metadata": {},
   "outputs": [],
   "source": [
    "## DF파일 daily_price 에 저장\n",
    "\n",
    "conn = pymysql.connect(host='localhost', user='root', password='1111', db='investar0221', charset='utf8')\n",
    "cur = conn.cursor()\n",
    "for r in df.itertuples():\n",
    "    sql = f\"replace into daily_price values ('{code}','{r.date}',{r.open},{r.high},{r.low},{r.close},{r.diff},{r.volume})\"\n",
    "    cur.execute(sql)\n",
    "conn.commit()\n",
    "conn.close()"
   ]
  },
  {
   "cell_type": "code",
   "execution_count": null,
   "id": "c5cccd46",
   "metadata": {},
   "outputs": [],
   "source": []
  },
  {
   "cell_type": "code",
   "execution_count": null,
   "id": "2fceabbd",
   "metadata": {},
   "outputs": [],
   "source": []
  },
  {
   "cell_type": "code",
   "execution_count": null,
   "id": "edd086c5",
   "metadata": {},
   "outputs": [],
   "source": []
  },
  {
   "cell_type": "code",
   "execution_count": null,
   "id": "18e4f23e",
   "metadata": {},
   "outputs": [],
   "source": []
  }
 ],
 "metadata": {
  "kernelspec": {
   "display_name": "Python 3 (ipykernel)",
   "language": "python",
   "name": "python3"
  },
  "language_info": {
   "codemirror_mode": {
    "name": "ipython",
    "version": 3
   },
   "file_extension": ".py",
   "mimetype": "text/x-python",
   "name": "python",
   "nbconvert_exporter": "python",
   "pygments_lexer": "ipython3",
   "version": "3.9.7"
  }
 },
 "nbformat": 4,
 "nbformat_minor": 5
}
