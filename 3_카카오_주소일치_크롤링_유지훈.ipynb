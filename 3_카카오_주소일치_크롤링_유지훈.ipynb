{
 "cells": [
  {
   "cell_type": "code",
   "execution_count": 1,
   "id": "a8efefec",
   "metadata": {},
   "outputs": [],
   "source": [
    "import pandas as pd\n",
    "import numpy as np\n",
    "import matplotlib.pyplot as plt\n",
    "import seaborn as sns\n",
    "import re\n",
    "from collections import Counter\n",
    "import requests\n",
    "import bs4\n",
    "from bs4 import BeautifulSoup\n",
    "import selenium\n",
    "from selenium import webdriver\n",
    "import time\n",
    "\n",
    "import warnings\n",
    "warnings.filterwarnings('ignore')"
   ]
  },
  {
   "cell_type": "code",
   "execution_count": 2,
   "id": "e0ba58d3",
   "metadata": {},
   "outputs": [
    {
     "name": "stdout",
     "output_type": "stream",
     "text": [
      "(114055, 7)\n"
     ]
    },
    {
     "data": {
      "text/html": [
       "<div>\n",
       "<style scoped>\n",
       "    .dataframe tbody tr th:only-of-type {\n",
       "        vertical-align: middle;\n",
       "    }\n",
       "\n",
       "    .dataframe tbody tr th {\n",
       "        vertical-align: top;\n",
       "    }\n",
       "\n",
       "    .dataframe thead th {\n",
       "        text-align: right;\n",
       "    }\n",
       "</style>\n",
       "<table border=\"1\" class=\"dataframe\">\n",
       "  <thead>\n",
       "    <tr style=\"text-align: right;\">\n",
       "      <th></th>\n",
       "      <th>구</th>\n",
       "      <th>동</th>\n",
       "      <th>사업장명</th>\n",
       "      <th>업종</th>\n",
       "      <th>좌표정보(X)</th>\n",
       "      <th>좌표정보(Y)</th>\n",
       "      <th>리뷰주소</th>\n",
       "    </tr>\n",
       "  </thead>\n",
       "  <tbody>\n",
       "    <tr>\n",
       "      <th>0</th>\n",
       "      <td>종로구</td>\n",
       "      <td>관철동</td>\n",
       "      <td>상해</td>\n",
       "      <td>분식</td>\n",
       "      <td>198867.702591</td>\n",
       "      <td>451824.281126</td>\n",
       "      <td>https://place.map.kakao.com/13333296#comment</td>\n",
       "    </tr>\n",
       "    <tr>\n",
       "      <th>1</th>\n",
       "      <td>관악구</td>\n",
       "      <td>신림동</td>\n",
       "      <td>미쿠</td>\n",
       "      <td>일식</td>\n",
       "      <td>193687.348199</td>\n",
       "      <td>442284.164025</td>\n",
       "      <td>https://place.map.kakao.com/658611073#comment</td>\n",
       "    </tr>\n",
       "    <tr>\n",
       "      <th>2</th>\n",
       "      <td>구로구</td>\n",
       "      <td>구로동</td>\n",
       "      <td>여름엔빙수겨울엔떡국</td>\n",
       "      <td>한식</td>\n",
       "      <td>189814.305919</td>\n",
       "      <td>443046.239859</td>\n",
       "      <td>https://place.map.kakao.com/1160052313#comment</td>\n",
       "    </tr>\n",
       "    <tr>\n",
       "      <th>3</th>\n",
       "      <td>강남구</td>\n",
       "      <td>대치동</td>\n",
       "      <td>카페디퍼</td>\n",
       "      <td>카페</td>\n",
       "      <td>204776.548264</td>\n",
       "      <td>444677.642985</td>\n",
       "      <td>https://place.map.kakao.com/637651089#comment</td>\n",
       "    </tr>\n",
       "    <tr>\n",
       "      <th>4</th>\n",
       "      <td>동대문구</td>\n",
       "      <td>신설동</td>\n",
       "      <td>메이크데이(MakeDay)</td>\n",
       "      <td>카페</td>\n",
       "      <td>202114.228397</td>\n",
       "      <td>452392.093759</td>\n",
       "      <td>error</td>\n",
       "    </tr>\n",
       "  </tbody>\n",
       "</table>\n",
       "</div>"
      ],
      "text/plain": [
       "      구    동            사업장명  업종        좌표정보(X)        좌표정보(Y)  \\\n",
       "0   종로구  관철동              상해  분식  198867.702591  451824.281126   \n",
       "1   관악구  신림동              미쿠  일식  193687.348199  442284.164025   \n",
       "2   구로구  구로동      여름엔빙수겨울엔떡국  한식  189814.305919  443046.239859   \n",
       "3   강남구  대치동            카페디퍼  카페  204776.548264  444677.642985   \n",
       "4  동대문구  신설동  메이크데이(MakeDay)  카페  202114.228397  452392.093759   \n",
       "\n",
       "                                             리뷰주소  \n",
       "0    https://place.map.kakao.com/13333296#comment  \n",
       "1   https://place.map.kakao.com/658611073#comment  \n",
       "2  https://place.map.kakao.com/1160052313#comment  \n",
       "3   https://place.map.kakao.com/637651089#comment  \n",
       "4                                           error  "
      ]
     },
     "execution_count": 2,
     "metadata": {},
     "output_type": "execute_result"
    }
   ],
   "source": [
    "df = pd.read_csv(\"./seoul_food_id.csv\", encoding='cp949')\n",
    "print(df.shape)\n",
    "df.head()"
   ]
  },
  {
   "cell_type": "code",
   "execution_count": 3,
   "id": "eebdbf04",
   "metadata": {},
   "outputs": [
    {
     "name": "stdout",
     "output_type": "stream",
     "text": [
      "(91340, 7)\n"
     ]
    },
    {
     "data": {
      "text/html": [
       "<div>\n",
       "<style scoped>\n",
       "    .dataframe tbody tr th:only-of-type {\n",
       "        vertical-align: middle;\n",
       "    }\n",
       "\n",
       "    .dataframe tbody tr th {\n",
       "        vertical-align: top;\n",
       "    }\n",
       "\n",
       "    .dataframe thead th {\n",
       "        text-align: right;\n",
       "    }\n",
       "</style>\n",
       "<table border=\"1\" class=\"dataframe\">\n",
       "  <thead>\n",
       "    <tr style=\"text-align: right;\">\n",
       "      <th></th>\n",
       "      <th>구</th>\n",
       "      <th>동</th>\n",
       "      <th>사업장명</th>\n",
       "      <th>업종</th>\n",
       "      <th>좌표정보(X)</th>\n",
       "      <th>좌표정보(Y)</th>\n",
       "      <th>리뷰주소</th>\n",
       "    </tr>\n",
       "  </thead>\n",
       "  <tbody>\n",
       "    <tr>\n",
       "      <th>0</th>\n",
       "      <td>종로구</td>\n",
       "      <td>관철동</td>\n",
       "      <td>상해</td>\n",
       "      <td>분식</td>\n",
       "      <td>198867.702591</td>\n",
       "      <td>451824.281126</td>\n",
       "      <td>https://place.map.kakao.com/13333296#comment</td>\n",
       "    </tr>\n",
       "    <tr>\n",
       "      <th>1</th>\n",
       "      <td>관악구</td>\n",
       "      <td>신림동</td>\n",
       "      <td>미쿠</td>\n",
       "      <td>일식</td>\n",
       "      <td>193687.348199</td>\n",
       "      <td>442284.164025</td>\n",
       "      <td>https://place.map.kakao.com/658611073#comment</td>\n",
       "    </tr>\n",
       "    <tr>\n",
       "      <th>2</th>\n",
       "      <td>구로구</td>\n",
       "      <td>구로동</td>\n",
       "      <td>여름엔빙수겨울엔떡국</td>\n",
       "      <td>한식</td>\n",
       "      <td>189814.305919</td>\n",
       "      <td>443046.239859</td>\n",
       "      <td>https://place.map.kakao.com/1160052313#comment</td>\n",
       "    </tr>\n",
       "    <tr>\n",
       "      <th>3</th>\n",
       "      <td>강남구</td>\n",
       "      <td>대치동</td>\n",
       "      <td>카페디퍼</td>\n",
       "      <td>카페</td>\n",
       "      <td>204776.548264</td>\n",
       "      <td>444677.642985</td>\n",
       "      <td>https://place.map.kakao.com/637651089#comment</td>\n",
       "    </tr>\n",
       "    <tr>\n",
       "      <th>4</th>\n",
       "      <td>은평구</td>\n",
       "      <td>응암동</td>\n",
       "      <td>달의 작업실(Lalune)</td>\n",
       "      <td>한식</td>\n",
       "      <td>192540.370555</td>\n",
       "      <td>454712.243026</td>\n",
       "      <td>https://place.map.kakao.com/1966713560#comment</td>\n",
       "    </tr>\n",
       "  </tbody>\n",
       "</table>\n",
       "</div>"
      ],
      "text/plain": [
       "     구    동            사업장명  업종        좌표정보(X)        좌표정보(Y)  \\\n",
       "0  종로구  관철동              상해  분식  198867.702591  451824.281126   \n",
       "1  관악구  신림동              미쿠  일식  193687.348199  442284.164025   \n",
       "2  구로구  구로동      여름엔빙수겨울엔떡국  한식  189814.305919  443046.239859   \n",
       "3  강남구  대치동            카페디퍼  카페  204776.548264  444677.642985   \n",
       "4  은평구  응암동  달의 작업실(Lalune)  한식  192540.370555  454712.243026   \n",
       "\n",
       "                                             리뷰주소  \n",
       "0    https://place.map.kakao.com/13333296#comment  \n",
       "1   https://place.map.kakao.com/658611073#comment  \n",
       "2  https://place.map.kakao.com/1160052313#comment  \n",
       "3   https://place.map.kakao.com/637651089#comment  \n",
       "4  https://place.map.kakao.com/1966713560#comment  "
      ]
     },
     "execution_count": 3,
     "metadata": {},
     "output_type": "execute_result"
    }
   ],
   "source": [
    "df = df[df['리뷰주소'] != 'error']\n",
    "df = df.reset_index(drop=True)\n",
    "print(df.shape)\n",
    "df.head()"
   ]
  },
  {
   "cell_type": "code",
   "execution_count": 4,
   "id": "be287175",
   "metadata": {},
   "outputs": [],
   "source": [
    "id_list = []\n",
    "for i in range(df.shape[0]):\n",
    "    id_list.append(df['리뷰주소'][i].split('/')[3].split('#')[0])\n",
    "# id_list"
   ]
  },
  {
   "cell_type": "code",
   "execution_count": 62,
   "id": "75bdb932",
   "metadata": {},
   "outputs": [],
   "source": [
    "gu_list=[]\n",
    "title_list=[]\n",
    "cnt=0"
   ]
  },
  {
   "cell_type": "code",
   "execution_count": 75,
   "id": "42814813",
   "metadata": {},
   "outputs": [
    {
     "name": "stdout",
     "output_type": "stream",
     "text": [
      "3000개 진행완료\n"
     ]
    },
    {
     "ename": "IndexError",
     "evalue": "list index out of range",
     "output_type": "error",
     "traceback": [
      "\u001b[1;31m---------------------------------------------------------------------------\u001b[0m",
      "\u001b[1;31mIndexError\u001b[0m                                Traceback (most recent call last)",
      "\u001b[1;32m~\\AppData\\Local\\Temp/ipykernel_15200/3138837358.py\u001b[0m in \u001b[0;36m<module>\u001b[1;34m\u001b[0m\n\u001b[0;32m      6\u001b[0m     \u001b[0mtitle\u001b[0m \u001b[1;33m=\u001b[0m \u001b[0msoup\u001b[0m\u001b[1;33m.\u001b[0m\u001b[0mhead\u001b[0m\u001b[1;33m.\u001b[0m\u001b[0mfind\u001b[0m\u001b[1;33m(\u001b[0m\u001b[1;34m'meta'\u001b[0m\u001b[1;33m,\u001b[0m\u001b[1;33m{\u001b[0m\u001b[1;34m'property'\u001b[0m\u001b[1;33m:\u001b[0m\u001b[1;34m\"og:title\"\u001b[0m\u001b[1;33m}\u001b[0m\u001b[1;33m)\u001b[0m\u001b[1;33m.\u001b[0m\u001b[0mget\u001b[0m\u001b[1;33m(\u001b[0m\u001b[1;34m'content'\u001b[0m\u001b[1;33m)\u001b[0m\u001b[1;33m\u001b[0m\u001b[1;33m\u001b[0m\u001b[0m\n\u001b[0;32m      7\u001b[0m     \u001b[0maddress\u001b[0m \u001b[1;33m=\u001b[0m \u001b[0msoup\u001b[0m\u001b[1;33m.\u001b[0m\u001b[0mhead\u001b[0m\u001b[1;33m.\u001b[0m\u001b[0mfind\u001b[0m\u001b[1;33m(\u001b[0m\u001b[1;34m'meta'\u001b[0m\u001b[1;33m,\u001b[0m\u001b[1;33m{\u001b[0m\u001b[1;34m'property'\u001b[0m\u001b[1;33m:\u001b[0m\u001b[1;34m\"og:description\"\u001b[0m\u001b[1;33m}\u001b[0m\u001b[1;33m)\u001b[0m\u001b[1;33m.\u001b[0m\u001b[0mget\u001b[0m\u001b[1;33m(\u001b[0m\u001b[1;34m'content'\u001b[0m\u001b[1;33m)\u001b[0m\u001b[1;33m\u001b[0m\u001b[1;33m\u001b[0m\u001b[0m\n\u001b[1;32m----> 8\u001b[1;33m     \u001b[0mgu\u001b[0m \u001b[1;33m=\u001b[0m \u001b[0maddress\u001b[0m\u001b[1;33m.\u001b[0m\u001b[0msplit\u001b[0m\u001b[1;33m(\u001b[0m\u001b[1;33m)\u001b[0m\u001b[1;33m[\u001b[0m\u001b[1;36m1\u001b[0m\u001b[1;33m]\u001b[0m\u001b[1;33m\u001b[0m\u001b[1;33m\u001b[0m\u001b[0m\n\u001b[0m\u001b[0;32m      9\u001b[0m     \u001b[0mgu_list\u001b[0m\u001b[1;33m.\u001b[0m\u001b[0mappend\u001b[0m\u001b[1;33m(\u001b[0m\u001b[0mgu\u001b[0m\u001b[1;33m)\u001b[0m\u001b[1;33m\u001b[0m\u001b[1;33m\u001b[0m\u001b[0m\n\u001b[0;32m     10\u001b[0m     \u001b[0mtitle_list\u001b[0m\u001b[1;33m.\u001b[0m\u001b[0mappend\u001b[0m\u001b[1;33m(\u001b[0m\u001b[0mtitle\u001b[0m\u001b[1;33m)\u001b[0m\u001b[1;33m\u001b[0m\u001b[1;33m\u001b[0m\u001b[0m\n",
      "\u001b[1;31mIndexError\u001b[0m: list index out of range"
     ]
    }
   ],
   "source": [
    "for i in range(len(gu_list),df.shape[0]):\n",
    "    url = df['리뷰주소'][i]\n",
    "    header = {'user-agent': 'Mozilla/5.0'}\n",
    "    res = requests.get(url, headers=header)\n",
    "    soup = BeautifulSoup(res.text, 'html.parser')\n",
    "    title = soup.head.find('meta',{'property':\"og:title\"}).get('content')\n",
    "    address = soup.head.find('meta',{'property':\"og:description\"}).get('content')\n",
    "    gu = address.split()[1]\n",
    "    gu_list.append(gu)\n",
    "    title_list.append(title)\n",
    "    cnt += 1\n",
    "    if cnt % 1000 == 0 :\n",
    "        print(f'{cnt}개 진행완료')"
   ]
  },
  {
   "cell_type": "code",
   "execution_count": 72,
   "id": "a11a4175",
   "metadata": {},
   "outputs": [
    {
     "data": {
      "text/plain": [
       "2386"
      ]
     },
     "execution_count": 72,
     "metadata": {},
     "output_type": "execute_result"
    }
   ],
   "source": [
    "len(gu_list)"
   ]
  },
  {
   "cell_type": "code",
   "execution_count": 73,
   "id": "8999d7a8",
   "metadata": {},
   "outputs": [
    {
     "data": {
      "text/plain": [
       "2386"
      ]
     },
     "execution_count": 73,
     "metadata": {},
     "output_type": "execute_result"
    }
   ],
   "source": [
    "len(title_list)"
   ]
  },
  {
   "cell_type": "code",
   "execution_count": 74,
   "id": "b32a2631",
   "metadata": {},
   "outputs": [],
   "source": [
    "cnt = len(gu_list)"
   ]
  },
  {
   "cell_type": "code",
   "execution_count": 78,
   "id": "2399bca4",
   "metadata": {},
   "outputs": [
    {
     "data": {
      "text/plain": [
       "'https://place.map.kakao.com/16063769#comment'"
      ]
     },
     "execution_count": 78,
     "metadata": {},
     "output_type": "execute_result"
    }
   ],
   "source": [
    "url"
   ]
  },
  {
   "cell_type": "code",
   "execution_count": null,
   "id": "148af9a3",
   "metadata": {},
   "outputs": [],
   "source": []
  },
  {
   "cell_type": "code",
   "execution_count": 61,
   "id": "6413c897",
   "metadata": {},
   "outputs": [
    {
     "data": {
      "text/plain": [
       "\n",
       "<!DOCTYPE html>\n",
       "\n",
       "<html lang=\"ko\">\n",
       "<head>\n",
       "<meta charset=\"utf-8\"/>\n",
       "<meta content=\"IE=Edge\" http-equiv=\"X-UA-Compatible\"/>\n",
       "<title>보스턴피자 | 카카오맵</title>\n",
       "<meta content=\"보스턴피자\" property=\"og:title\"/>\n",
       "<meta content=\"카카오맵\" property=\"og:site_name\"/>\n",
       "<meta content=\"서울 관악구 신림로22길 5 (신림동 116)\" property=\"og:description\"/>\n",
       "<meta content=\"website\" property=\"og:type\"/>\n",
       "<meta content=\"http://map3.daum.net/staticmap/og?type=place&amp;srs=wcongnamul&amp;size=400x200&amp;m=485692%2C1103400\" property=\"og:image\"/>\n",
       "<meta content=\"https://place.map.kakao.com/1372478337\" property=\"og:url\"/>\n",
       "<meta content=\"summary_large_image\" name=\"twitter:card\"/>\n",
       "<meta content=\"보스턴피자\" name=\"twitter:title\"/>\n",
       "<meta content=\"서울 관악구 신림로22길 5 (신림동 116)\" name=\"twitter:description\"/>\n",
       "<meta content=\"http://map3.daum.net/staticmap/og?type=place&amp;srs=wcongnamul&amp;size=400x200&amp;m=485692%2C1103400\" name=\"twitter:image\"/>\n",
       "<link href=\"//t1.daumcdn.net/localimg/localimages/07/common/kakaomap_favicon.ico\" rel=\"shortcut icon\"/>\n",
       "<link href=\"//t1.daumcdn.net/kakaomapweb/place/jscss/pc.b5a88cb5.css\" rel=\"stylesheet\" type=\"text/css\">\n",
       "</link></head>\n",
       "<body>\n",
       "<div id=\"kakaoIndex\">\n",
       "<a href=\"#kakaoBody\">본문 바로가기</a>\n",
       "<a href=\"#kakaoGnb\">메뉴 바로가기</a>\n",
       "</div>\n",
       "<div class=\"wrap_mapdetail\" id=\"kakaoWrap\"><!-- 스크롤이 내려 왔을 때 클래스 lbar_on  -->\n",
       "<div id=\"wrapMinidaum\"></div>\n",
       "</div>\n",
       "<div id=\"daumWrap\" style=\"display:none;\">\n",
       "<div id=\"daumContent\">\n",
       "<div id=\"shareContainer\"></div>\n",
       "</div>\n",
       "</div>\n",
       "<script src=\"//ssl.daumcdn.net/dmaps/map_js_init/v3.js\" type=\"text/javascript\"></script>\n",
       "<script src=\"//t1.daumcdn.net/tiara/js/v1/tiara.min.js\" type=\"text/javascript\"></script>\n",
       "<script src=\"//t1.daumcdn.net/daumtop_deco/socialshare/socialshare_pc-2.4.3.js\" type=\"text/javascript\"></script>\n",
       "<script>\n",
       "        window.ENV = 'PROD';\n",
       "        window.browserversion = 'none0';\n",
       "        \n",
       "        // 티아라 초기화\n",
       "        try {\n",
       "            TiaraTracker.getInstance().init({\n",
       "                svcDomain: 'place.map.kakao.com',\n",
       "                deployment: window.ENV === 'PROD' ? 'production' : 'dev'\n",
       "            });\n",
       "        } catch(e) {}\n",
       "        window.placeRestrictType = 'NONE'\n",
       "        window._cp = '';\n",
       "    </script>\n",
       "<script src=\"//s1.daumcdn.net/svc/attach/U0301/cssjs/mm/1482483925476/Chart.min.js\" type=\"text/javascript\"></script>\n",
       "<script src=\"//t1.daumcdn.net/kakaomapweb/place/jscss/pc.1af125c9.js\" type=\"text/javascript\"></script>\n",
       "<!--\n",
       "    <script>\n",
       "        var minidaum_options = {\n",
       "            disableTracker: true, // 미니다음에서 tiara 사용안함\n",
       "            bgType: \"white\",\n",
       "            enableLogoutRetun: true,\n",
       "            returnUrl: '',\n",
       "            disableHotissue: true,\n",
       "            disableLogo:true,\n",
       "            enableShield: false\n",
       "        };\n",
       "    </script>\n",
       "    <script async src=\"//go.daum.net/jsa_minidaum_pc.daum\" charset=\"utf-8\" type=\"text/javascript\"></script>\n",
       "    -->\n",
       "</body>\n",
       "</html>"
      ]
     },
     "execution_count": 61,
     "metadata": {},
     "output_type": "execute_result"
    }
   ],
   "source": [
    "soup"
   ]
  },
  {
   "cell_type": "code",
   "execution_count": null,
   "id": "a4e21b4f",
   "metadata": {},
   "outputs": [],
   "source": []
  }
 ],
 "metadata": {
  "kernelspec": {
   "display_name": "Python 3 (ipykernel)",
   "language": "python",
   "name": "python3"
  },
  "language_info": {
   "codemirror_mode": {
    "name": "ipython",
    "version": 3
   },
   "file_extension": ".py",
   "mimetype": "text/x-python",
   "name": "python",
   "nbconvert_exporter": "python",
   "pygments_lexer": "ipython3",
   "version": "3.9.7"
  }
 },
 "nbformat": 4,
 "nbformat_minor": 5
}
