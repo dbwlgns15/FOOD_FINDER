{
 "cells": [
  {
   "cell_type": "code",
   "execution_count": null,
   "id": "3393fc58",
   "metadata": {},
   "outputs": [],
   "source": [
    "df1 = pd.read_csv(\"./서울_강남구.csv\")\n",
    "\n",
    "df1"
   ]
  },
  {
   "cell_type": "code",
   "execution_count": null,
   "id": "038614a0",
   "metadata": {},
   "outputs": [],
   "source": [
    "df1['review']=df1['review'].str.replace(pat=r'[^ㄱ-ㅣ가-힣]+', repl= r'', regex=True)\n",
    "df1"
   ]
  },
  {
   "cell_type": "code",
   "execution_count": null,
   "id": "8b13809a",
   "metadata": {},
   "outputs": [],
   "source": [
    "def sentiment_predict(new_sentence): \n",
    "    new_sentence = re.sub(r'[^ㄱ-ㅎㅏ-ㅣ가-힣 ]','', str(new_sentence))\n",
    "    new_sentence = okt.morphs(new_sentence, stem=True) # 토큰화\n",
    "    new_sentence = [word for word in new_sentence if not word in stopwords] # 불용어 제거\n",
    "    encoded = tokenizer.texts_to_sequences([new_sentence]) # 정수 인코딩\n",
    "    pad_new = pad_sequences(encoded) # 패딩\n",
    "    score = float(loaded_model.predict(pad_new)) # 예측\n",
    "    if(score > 0.5):\n",
    "        ans = 1\n",
    "    else:\n",
    "        ans = 0\n",
    "    return ans"
   ]
  },
  {
   "cell_type": "code",
   "execution_count": null,
   "id": "1b2bbe50",
   "metadata": {},
   "outputs": [],
   "source": [
    "test_sentences = df1['reveiw'].to_list()\n",
    "score = []\n",
    "cnt = 0\n",
    "for sentences in test_sentences:\n",
    "    try:\n",
    "        np = sentiment_predict(sentences)\n",
    "        score.append(np)\n",
    "        cnt += 1\n",
    "    except:\n",
    "        print('에러문장:',sentences)\n",
    "        score.append('error')\n",
    "        cnt += 1\n",
    "    if cnt % 100 == 0:\n",
    "        print(f'현재{cnt}개 진행완료')"
   ]
  }
 ],
 "metadata": {
  "kernelspec": {
   "display_name": "Python 3 (ipykernel)",
   "language": "python",
   "name": "python3"
  },
  "language_info": {
   "codemirror_mode": {
    "name": "ipython",
    "version": 3
   },
   "file_extension": ".py",
   "mimetype": "text/x-python",
   "name": "python",
   "nbconvert_exporter": "python",
   "pygments_lexer": "ipython3",
   "version": "3.9.7"
  }
 },
 "nbformat": 4,
 "nbformat_minor": 5
}
