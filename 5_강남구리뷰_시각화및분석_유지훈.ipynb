{
 "cells": [
  {
   "cell_type": "code",
   "execution_count": 1,
   "id": "71c3dc9d",
   "metadata": {
    "scrolled": true
   },
   "outputs": [],
   "source": [
    "import pandas as pd\n",
    "import numpy as np\n",
    "import seaborn as sns\n",
    "import matplotlib.pyplot as plt\n",
    "import pyproj\n",
    "import folium\n",
    "from folium.plugins import MarkerCluster\n",
    "\n",
    "import warnings\n",
    "warnings.filterwarnings('ignore')"
   ]
  },
  {
   "cell_type": "code",
   "execution_count": 2,
   "id": "e728269c",
   "metadata": {
    "scrolled": true
   },
   "outputs": [],
   "source": [
    "df = pd.read_csv('./src/서울_강남구.csv')"
   ]
  },
  {
   "cell_type": "markdown",
   "id": "f390c1f6",
   "metadata": {},
   "source": [
    "### 결측치 확인"
   ]
  },
  {
   "cell_type": "code",
   "execution_count": 3,
   "id": "d162c563",
   "metadata": {},
   "outputs": [
    {
     "name": "stdout",
     "output_type": "stream",
     "text": [
      "(27021, 3)\n"
     ]
    },
    {
     "data": {
      "text/html": [
       "<div>\n",
       "<style scoped>\n",
       "    .dataframe tbody tr th:only-of-type {\n",
       "        vertical-align: middle;\n",
       "    }\n",
       "\n",
       "    .dataframe tbody tr th {\n",
       "        vertical-align: top;\n",
       "    }\n",
       "\n",
       "    .dataframe thead th {\n",
       "        text-align: right;\n",
       "    }\n",
       "</style>\n",
       "<table border=\"1\" class=\"dataframe\">\n",
       "  <thead>\n",
       "    <tr style=\"text-align: right;\">\n",
       "      <th></th>\n",
       "      <th>name</th>\n",
       "      <th>score</th>\n",
       "      <th>review</th>\n",
       "    </tr>\n",
       "  </thead>\n",
       "  <tbody>\n",
       "    <tr>\n",
       "      <th>0</th>\n",
       "      <td>명동칼국수샤브샤브 강남대로점</td>\n",
       "      <td>1</td>\n",
       "      <td>설거지좀 제대로 해주세요. 칼국수 그릇 겉에 국물  마른 자국이 항상 있네요</td>\n",
       "    </tr>\n",
       "    <tr>\n",
       "      <th>1</th>\n",
       "      <td>명동칼국수샤브샤브 강남대로점</td>\n",
       "      <td>4</td>\n",
       "      <td>맛있음. 구성좋고 가격도 합리적.  친절함.</td>\n",
       "    </tr>\n",
       "    <tr>\n",
       "      <th>2</th>\n",
       "      <td>명동칼국수샤브샤브 강남대로점</td>\n",
       "      <td>5</td>\n",
       "      <td>가성비 좋고, 죽이 맛있어요. 칼국수는 쏘쏘</td>\n",
       "    </tr>\n",
       "    <tr>\n",
       "      <th>3</th>\n",
       "      <td>명동칼국수샤브샤브 강남대로점</td>\n",
       "      <td>5</td>\n",
       "      <td>깔끔존맛이에요</td>\n",
       "    </tr>\n",
       "    <tr>\n",
       "      <th>4</th>\n",
       "      <td>명동칼국수샤브샤브 강남대로점</td>\n",
       "      <td>3</td>\n",
       "      <td>NaN</td>\n",
       "    </tr>\n",
       "  </tbody>\n",
       "</table>\n",
       "</div>"
      ],
      "text/plain": [
       "              name  score                                      review\n",
       "0  명동칼국수샤브샤브 강남대로점      1  설거지좀 제대로 해주세요. 칼국수 그릇 겉에 국물  마른 자국이 항상 있네요\n",
       "1  명동칼국수샤브샤브 강남대로점      4                   맛있음. 구성좋고 가격도 합리적.  친절함. \n",
       "2  명동칼국수샤브샤브 강남대로점      5                    가성비 좋고, 죽이 맛있어요. 칼국수는 쏘쏘\n",
       "3  명동칼국수샤브샤브 강남대로점      5                                     깔끔존맛이에요\n",
       "4  명동칼국수샤브샤브 강남대로점      3                                         NaN"
      ]
     },
     "execution_count": 3,
     "metadata": {},
     "output_type": "execute_result"
    }
   ],
   "source": [
    "print(df.shape)\n",
    "df.head()"
   ]
  },
  {
   "cell_type": "code",
   "execution_count": 4,
   "id": "075f06c1",
   "metadata": {},
   "outputs": [],
   "source": [
    "def check_null(df):    \n",
    "    total_cnt = 0\n",
    "    for i in df.columns:\n",
    "        cnt = sum(df[i].isnull())\n",
    "        total_cnt += cnt\n",
    "        if cnt:\n",
    "            print(f'{i}열에 결측치{cnt}개')\n",
    "        else:\n",
    "            print(f'{i}열에 결측치 없음')\n",
    "    if total_cnt == 0:\n",
    "        print('모든 열에 결측치 없음')\n",
    "    else:\n",
    "        print(f'총 결측치 {total_cnt}개')"
   ]
  },
  {
   "cell_type": "code",
   "execution_count": 5,
   "id": "120ebf49",
   "metadata": {},
   "outputs": [
    {
     "name": "stdout",
     "output_type": "stream",
     "text": [
      "name열에 결측치 없음\n",
      "score열에 결측치 없음\n",
      "review열에 결측치4672개\n",
      "총 결측치 4672개\n"
     ]
    }
   ],
   "source": [
    "check_null(df) # 결측치는 리뷰에만 존재함"
   ]
  },
  {
   "cell_type": "markdown",
   "id": "37696cda",
   "metadata": {},
   "source": [
    "### 리뷰 수 분석"
   ]
  },
  {
   "cell_type": "code",
   "execution_count": 6,
   "id": "7648d3cc",
   "metadata": {},
   "outputs": [
    {
     "name": "stdout",
     "output_type": "stream",
     "text": [
      "전체 음식점 수: 2840\n"
     ]
    }
   ],
   "source": [
    "print('전체 음식점 수:',df['name'].nunique())"
   ]
  },
  {
   "cell_type": "code",
   "execution_count": 7,
   "id": "31bcef0d",
   "metadata": {
    "scrolled": true
   },
   "outputs": [
    {
     "data": {
      "text/plain": [
       "농민백암순대 본점       75\n",
       "농민백암왕순대         75\n",
       "카페캠프통           50\n",
       "영동원삼겹살          50\n",
       "보트르메종           50\n",
       "                ..\n",
       "국수마을             1\n",
       "생생돈까스 강남점        1\n",
       "왕빈자삼파전 논현점       1\n",
       "바탄(BAR TANN)     1\n",
       "원조마포소금구이 강남점     1\n",
       "Name: name, Length: 2840, dtype: int64"
      ]
     },
     "execution_count": 7,
     "metadata": {},
     "output_type": "execute_result"
    }
   ],
   "source": [
    "# 가게별 리뷰 수\n",
    "df['name'].value_counts()"
   ]
  },
  {
   "cell_type": "code",
   "execution_count": 8,
   "id": "622f6c7c",
   "metadata": {},
   "outputs": [
    {
     "data": {
      "image/png": "[encoded data removed]",
      "text/plain": [
       "<Figure size 576x360 with 1 Axes>"
      ]
     },
     "metadata": {
      "needs_background": "light"
     },
     "output_type": "display_data"
    }
   ],
   "source": [
    "# 가게별 리뷰 수 히스토그램\n",
    "plt.figure(figsize=(8,5))\n",
    "plt.rcParams['font.family'] = 'Malgun Gothic'\n",
    "sns.histplot(df['name'].value_counts(),bins=15)\n",
    "plt.title('가게별 리뷰 수')\n",
    "plt.show()"
   ]
  },
  {
   "cell_type": "code",
   "execution_count": 9,
   "id": "8f201fa4",
   "metadata": {
    "scrolled": true
   },
   "outputs": [
    {
     "name": "stdout",
     "output_type": "stream",
     "text": [
      "가게별 리뷰 수 평균: 9.51443661971831\n",
      "평균보다 리뷰가 많은 가게: 1407\n",
      "평균보다 리뷰가 적은 가게: 1433\n"
     ]
    }
   ],
   "source": [
    "# 리뷰 수 평균\n",
    "print('가게별 리뷰 수 평균:',df.value_counts(subset='name').mean())\n",
    "a = df.value_counts(subset='name')\n",
    "print('평균보다 리뷰가 많은 가게:',len(a[a > df['name'].value_counts().mean()])) \n",
    "print('평균보다 리뷰가 적은 가게:',len(a[a < df['name'].value_counts().mean()])) "
   ]
  },
  {
   "cell_type": "markdown",
   "id": "1b45c543",
   "metadata": {},
   "source": [
    "### 별점 수 분석"
   ]
  },
  {
   "cell_type": "code",
   "execution_count": 10,
   "id": "a938699f",
   "metadata": {},
   "outputs": [
    {
     "data": {
      "text/plain": [
       "score\n",
       "5    12603\n",
       "1     5688\n",
       "4     4317\n",
       "3     2813\n",
       "2     1600\n",
       "dtype: int64"
      ]
     },
     "execution_count": 10,
     "metadata": {},
     "output_type": "execute_result"
    }
   ],
   "source": [
    "# 별점 수\n",
    "df.value_counts(subset='score')"
   ]
  },
  {
   "cell_type": "code",
   "execution_count": 11,
   "id": "d79fea89",
   "metadata": {
    "scrolled": true
   },
   "outputs": [
    {
     "data": {
      "image/png": "[encoded data removed]",
      "text/plain": [
       "<Figure size 576x360 with 1 Axes>"
      ]
     },
     "metadata": {
      "needs_background": "light"
     },
     "output_type": "display_data"
    }
   ],
   "source": [
    "# 별점 수 막대그래프\n",
    "plt.figure(figsize=(8,5))\n",
    "plt.rcParams['font.family'] = 'Malgun Gothic'\n",
    "sns.countplot(df['score'])\n",
    "plt.title('별점 수')\n",
    "plt.show()\n",
    "# 리뷰 별점은 대부분 5점이나 1점을 주기위해서 많이 작성한다. 그리고 긍정적인 5점을 주기 위한 경우가 더 많다"
   ]
  },
  {
   "cell_type": "code",
   "execution_count": 12,
   "id": "4d2d1608",
   "metadata": {},
   "outputs": [
    {
     "name": "stdout",
     "output_type": "stream",
     "text": [
      "전체 별점 평균: 3.6123755597498244\n"
     ]
    }
   ],
   "source": [
    "print('전체 별점 평균:',df['score'].mean())"
   ]
  },
  {
   "cell_type": "markdown",
   "id": "4dd0d18b",
   "metadata": {},
   "source": [
    "### 리뷰 길이 분석"
   ]
  },
  {
   "cell_type": "code",
   "execution_count": 13,
   "id": "f3e58d33",
   "metadata": {},
   "outputs": [
    {
     "name": "stdout",
     "output_type": "stream",
     "text": [
      "(22349, 3)\n"
     ]
    },
    {
     "data": {
      "text/html": [
       "<div>\n",
       "<style scoped>\n",
       "    .dataframe tbody tr th:only-of-type {\n",
       "        vertical-align: middle;\n",
       "    }\n",
       "\n",
       "    .dataframe tbody tr th {\n",
       "        vertical-align: top;\n",
       "    }\n",
       "\n",
       "    .dataframe thead th {\n",
       "        text-align: right;\n",
       "    }\n",
       "</style>\n",
       "<table border=\"1\" class=\"dataframe\">\n",
       "  <thead>\n",
       "    <tr style=\"text-align: right;\">\n",
       "      <th></th>\n",
       "      <th>name</th>\n",
       "      <th>score</th>\n",
       "      <th>review</th>\n",
       "    </tr>\n",
       "  </thead>\n",
       "  <tbody>\n",
       "    <tr>\n",
       "      <th>0</th>\n",
       "      <td>명동칼국수샤브샤브 강남대로점</td>\n",
       "      <td>1</td>\n",
       "      <td>설거지좀 제대로 해주세요. 칼국수 그릇 겉에 국물  마른 자국이 항상 있네요</td>\n",
       "    </tr>\n",
       "    <tr>\n",
       "      <th>1</th>\n",
       "      <td>명동칼국수샤브샤브 강남대로점</td>\n",
       "      <td>4</td>\n",
       "      <td>맛있음. 구성좋고 가격도 합리적.  친절함.</td>\n",
       "    </tr>\n",
       "    <tr>\n",
       "      <th>2</th>\n",
       "      <td>명동칼국수샤브샤브 강남대로점</td>\n",
       "      <td>5</td>\n",
       "      <td>가성비 좋고, 죽이 맛있어요. 칼국수는 쏘쏘</td>\n",
       "    </tr>\n",
       "    <tr>\n",
       "      <th>3</th>\n",
       "      <td>명동칼국수샤브샤브 강남대로점</td>\n",
       "      <td>5</td>\n",
       "      <td>깔끔존맛이에요</td>\n",
       "    </tr>\n",
       "    <tr>\n",
       "      <th>4</th>\n",
       "      <td>세븐브릭스키친</td>\n",
       "      <td>1</td>\n",
       "      <td>너무 불친절해서 다시는 가고 싶지 않아요.</td>\n",
       "    </tr>\n",
       "  </tbody>\n",
       "</table>\n",
       "</div>"
      ],
      "text/plain": [
       "              name  score                                      review\n",
       "0  명동칼국수샤브샤브 강남대로점      1  설거지좀 제대로 해주세요. 칼국수 그릇 겉에 국물  마른 자국이 항상 있네요\n",
       "1  명동칼국수샤브샤브 강남대로점      4                   맛있음. 구성좋고 가격도 합리적.  친절함. \n",
       "2  명동칼국수샤브샤브 강남대로점      5                    가성비 좋고, 죽이 맛있어요. 칼국수는 쏘쏘\n",
       "3  명동칼국수샤브샤브 강남대로점      5                                     깔끔존맛이에요\n",
       "4          세븐브릭스키친      1                     너무 불친절해서 다시는 가고 싶지 않아요."
      ]
     },
     "execution_count": 13,
     "metadata": {},
     "output_type": "execute_result"
    }
   ],
   "source": [
    "# 리뷰 결측치 제거\n",
    "df2 = df.dropna()\n",
    "df2 = df2.reset_index(drop=True)\n",
    "print(df2.shape)\n",
    "df2.head()"
   ]
  },
  {
   "cell_type": "code",
   "execution_count": 14,
   "id": "1eef2e36",
   "metadata": {
    "scrolled": true
   },
   "outputs": [],
   "source": [
    "review_len = [len(df2['review'][i]) for i in range(df2.shape[0])]\n",
    "df2.insert(3,'review_len',review_len)"
   ]
  },
  {
   "cell_type": "code",
   "execution_count": 15,
   "id": "6bba981f",
   "metadata": {},
   "outputs": [
    {
     "data": {
      "text/html": [
       "<div>\n",
       "<style scoped>\n",
       "    .dataframe tbody tr th:only-of-type {\n",
       "        vertical-align: middle;\n",
       "    }\n",
       "\n",
       "    .dataframe tbody tr th {\n",
       "        vertical-align: top;\n",
       "    }\n",
       "\n",
       "    .dataframe thead th {\n",
       "        text-align: right;\n",
       "    }\n",
       "</style>\n",
       "<table border=\"1\" class=\"dataframe\">\n",
       "  <thead>\n",
       "    <tr style=\"text-align: right;\">\n",
       "      <th></th>\n",
       "      <th>name</th>\n",
       "      <th>score</th>\n",
       "      <th>review</th>\n",
       "      <th>review_len</th>\n",
       "    </tr>\n",
       "  </thead>\n",
       "  <tbody>\n",
       "    <tr>\n",
       "      <th>0</th>\n",
       "      <td>명동칼국수샤브샤브 강남대로점</td>\n",
       "      <td>1</td>\n",
       "      <td>설거지좀 제대로 해주세요. 칼국수 그릇 겉에 국물  마른 자국이 항상 있네요</td>\n",
       "      <td>42</td>\n",
       "    </tr>\n",
       "    <tr>\n",
       "      <th>1</th>\n",
       "      <td>명동칼국수샤브샤브 강남대로점</td>\n",
       "      <td>4</td>\n",
       "      <td>맛있음. 구성좋고 가격도 합리적.  친절함.</td>\n",
       "      <td>25</td>\n",
       "    </tr>\n",
       "    <tr>\n",
       "      <th>2</th>\n",
       "      <td>명동칼국수샤브샤브 강남대로점</td>\n",
       "      <td>5</td>\n",
       "      <td>가성비 좋고, 죽이 맛있어요. 칼국수는 쏘쏘</td>\n",
       "      <td>24</td>\n",
       "    </tr>\n",
       "    <tr>\n",
       "      <th>3</th>\n",
       "      <td>명동칼국수샤브샤브 강남대로점</td>\n",
       "      <td>5</td>\n",
       "      <td>깔끔존맛이에요</td>\n",
       "      <td>7</td>\n",
       "    </tr>\n",
       "    <tr>\n",
       "      <th>4</th>\n",
       "      <td>세븐브릭스키친</td>\n",
       "      <td>1</td>\n",
       "      <td>너무 불친절해서 다시는 가고 싶지 않아요.</td>\n",
       "      <td>23</td>\n",
       "    </tr>\n",
       "  </tbody>\n",
       "</table>\n",
       "</div>"
      ],
      "text/plain": [
       "              name  score                                      review  \\\n",
       "0  명동칼국수샤브샤브 강남대로점      1  설거지좀 제대로 해주세요. 칼국수 그릇 겉에 국물  마른 자국이 항상 있네요   \n",
       "1  명동칼국수샤브샤브 강남대로점      4                   맛있음. 구성좋고 가격도 합리적.  친절함.    \n",
       "2  명동칼국수샤브샤브 강남대로점      5                    가성비 좋고, 죽이 맛있어요. 칼국수는 쏘쏘   \n",
       "3  명동칼국수샤브샤브 강남대로점      5                                     깔끔존맛이에요   \n",
       "4          세븐브릭스키친      1                     너무 불친절해서 다시는 가고 싶지 않아요.   \n",
       "\n",
       "   review_len  \n",
       "0          42  \n",
       "1          25  \n",
       "2          24  \n",
       "3           7  \n",
       "4          23  "
      ]
     },
     "execution_count": 15,
     "metadata": {},
     "output_type": "execute_result"
    }
   ],
   "source": [
    "df2.head()"
   ]
  },
  {
   "cell_type": "code",
   "execution_count": 16,
   "id": "28c7a8ec",
   "metadata": {},
   "outputs": [
    {
     "name": "stdout",
     "output_type": "stream",
     "text": [
      "평균 리뷰 글자: 59.53957671484183\n",
      "평균보다 리뷰 글자 수가 많은 리뷰: 7999\n",
      "평균보다 리뷰 글자 수가 적은 리뷰: 14350\n"
     ]
    }
   ],
   "source": [
    "print('평균 리뷰 글자:',df2['review_len'].mean())\n",
    "print('평균보다 리뷰 글자 수가 많은 리뷰:',len(df2[df2['review_len'] > df2['review_len'].mean()])) \n",
    "print('평균보다 리뷰 글자 수가 적은 리뷰:',len(df2[df2['review_len'] < df2['review_len'].mean()])) "
   ]
  },
  {
   "cell_type": "code",
   "execution_count": 17,
   "id": "d5f7edf3",
   "metadata": {},
   "outputs": [
    {
     "data": {
      "image/png": "[encoded data removed]",
      "text/plain": [
       "<Figure size 576x360 with 1 Axes>"
      ]
     },
     "metadata": {
      "needs_background": "light"
     },
     "output_type": "display_data"
    }
   ],
   "source": [
    "plt.figure(figsize=(8,5))\n",
    "plt.rcParams['font.family'] = 'Malgun Gothic'\n",
    "sns.histplot(df2['review_len'],bins=20)\n",
    "plt.title('리뷰 글자 수')\n",
    "plt.show()\n",
    "# 사람들은 리뷰를 길게 작성하지 않는다 (가장 길게 작성한 리뷰쪽이 많은 이유는 모르겠다)"
   ]
  },
  {
   "cell_type": "code",
   "execution_count": 18,
   "id": "fa311ee1",
   "metadata": {},
   "outputs": [
    {
     "name": "stdout",
     "output_type": "stream",
     "text": [
      "별점1개 평균 리뷰 글자 수: 80.65060240963855\n",
      "별점2개 평균 리뷰 글자 수: 74.31485429992892\n",
      "별점3개 평균 리뷰 글자 수: 59.52982954545455\n",
      "별점4개 평균 리뷰 글자 수: 50.819963257807714\n",
      "별점5개 평균 리뷰 글자 수: 49.60445089501693\n"
     ]
    }
   ],
   "source": [
    "for i in range(1,6):\n",
    "    print(f'별점{i}개 평균 리뷰 글자 수:',df2[df2['score'] == i]['review_len'].mean())\n",
    "# 대체적으로 별점이 낮으면 리뷰 글자 수가 많다(기분 나쁘면 할 말이 많은듯)"
   ]
  },
  {
   "cell_type": "markdown",
   "id": "29062a09",
   "metadata": {},
   "source": [
    "### 위도 경도 데이터 추가"
   ]
  },
  {
   "cell_type": "code",
   "execution_count": 19,
   "id": "f09061c4",
   "metadata": {
    "scrolled": true
   },
   "outputs": [
    {
     "data": {
      "text/html": [
       "<div>\n",
       "<style scoped>\n",
       "    .dataframe tbody tr th:only-of-type {\n",
       "        vertical-align: middle;\n",
       "    }\n",
       "\n",
       "    .dataframe tbody tr th {\n",
       "        vertical-align: top;\n",
       "    }\n",
       "\n",
       "    .dataframe thead th {\n",
       "        text-align: right;\n",
       "    }\n",
       "</style>\n",
       "<table border=\"1\" class=\"dataframe\">\n",
       "  <thead>\n",
       "    <tr style=\"text-align: right;\">\n",
       "      <th></th>\n",
       "      <th>사업장명(카카오)</th>\n",
       "      <th>좌표정보(X)</th>\n",
       "      <th>좌표정보(Y)</th>\n",
       "    </tr>\n",
       "  </thead>\n",
       "  <tbody>\n",
       "    <tr>\n",
       "      <th>0</th>\n",
       "      <td>카페디퍼</td>\n",
       "      <td>204776.548264</td>\n",
       "      <td>444677.642985</td>\n",
       "    </tr>\n",
       "    <tr>\n",
       "      <th>1</th>\n",
       "      <td>숯칼도산숯닭갈비</td>\n",
       "      <td>202545.473911</td>\n",
       "      <td>446358.225573</td>\n",
       "    </tr>\n",
       "    <tr>\n",
       "      <th>2</th>\n",
       "      <td>롯데시네마 도곡</td>\n",
       "      <td>204098.596031</td>\n",
       "      <td>442807.317225</td>\n",
       "    </tr>\n",
       "    <tr>\n",
       "      <th>3</th>\n",
       "      <td>이소젠네타</td>\n",
       "      <td>201713.280105</td>\n",
       "      <td>446129.893616</td>\n",
       "    </tr>\n",
       "    <tr>\n",
       "      <th>4</th>\n",
       "      <td>로지</td>\n",
       "      <td>203261.244008</td>\n",
       "      <td>446841.847957</td>\n",
       "    </tr>\n",
       "  </tbody>\n",
       "</table>\n",
       "</div>"
      ],
      "text/plain": [
       "  사업장명(카카오)        좌표정보(X)        좌표정보(Y)\n",
       "0      카페디퍼  204776.548264  444677.642985\n",
       "1  숯칼도산숯닭갈비  202545.473911  446358.225573\n",
       "2  롯데시네마 도곡  204098.596031  442807.317225\n",
       "3     이소젠네타  201713.280105  446129.893616\n",
       "4        로지  203261.244008  446841.847957"
      ]
     },
     "execution_count": 19,
     "metadata": {},
     "output_type": "execute_result"
    }
   ],
   "source": [
    "df3 = pd.read_csv('./seoul_food_id_kakao.csv')\n",
    "df3 = df3[df3['구'] == '강남구']\n",
    "df3 = df3[['사업장명(카카오)','좌표정보(X)', '좌표정보(Y)']]\n",
    "df3 = df3.reset_index(drop=True)\n",
    "df3.head()"
   ]
  },
  {
   "cell_type": "code",
   "execution_count": 20,
   "id": "3d209f3b",
   "metadata": {},
   "outputs": [
    {
     "name": "stdout",
     "output_type": "stream",
     "text": [
      "error 갯수: 5\n"
     ]
    }
   ],
   "source": [
    "x = []\n",
    "for i in range(df2.shape[0]):\n",
    "    try:\n",
    "        x.append(float(df3[df3['사업장명(카카오)'] == df2['name'][i]]['좌표정보(X)'].iloc[0]))\n",
    "    except:\n",
    "        x.append(0)\n",
    "print('error 갯수:',x.count(0))"
   ]
  },
  {
   "cell_type": "code",
   "execution_count": 21,
   "id": "612e513b",
   "metadata": {},
   "outputs": [
    {
     "name": "stdout",
     "output_type": "stream",
     "text": [
      "error 갯수: 5\n"
     ]
    }
   ],
   "source": [
    "y = []\n",
    "for i in range(df2.shape[0]):\n",
    "    try:\n",
    "        y.append(float(df3[df3['사업장명(카카오)'] == df2['name'][i]]['좌표정보(Y)'].iloc[0]))\n",
    "    except:\n",
    "        y.append(0)\n",
    "print('error 갯수:',y.count(0))"
   ]
  },
  {
   "cell_type": "code",
   "execution_count": 22,
   "id": "7967b301",
   "metadata": {},
   "outputs": [
    {
     "data": {
      "text/plain": [
       "array([[203705.02213402, 444361.30601261],\n",
       "       [203705.02213402, 444361.30601261],\n",
       "       [203705.02213402, 444361.30601261],\n",
       "       ...,\n",
       "       [202480.89661316, 445792.73976125],\n",
       "       [205340.63112157, 445354.57111745],\n",
       "       [201782.10122745, 446748.06718389]])"
      ]
     },
     "execution_count": 22,
     "metadata": {},
     "output_type": "execute_result"
    }
   ],
   "source": [
    "xy = np.array([[x[i], y[i]] for i in range(len(x))])\n",
    "xy"
   ]
  },
  {
   "cell_type": "code",
   "execution_count": 23,
   "id": "caf2d33a",
   "metadata": {},
   "outputs": [
    {
     "data": {
      "text/plain": [
       "array([[127.03979893,  37.50145648],\n",
       "       [127.03979893,  37.50145648],\n",
       "       [127.03979893,  37.50145648],\n",
       "       ...,\n",
       "       [127.02595989,  37.51435768],\n",
       "       [127.0583033 ,  37.51039788],\n",
       "       [127.01805802,  37.5229667 ]])"
      ]
     },
     "execution_count": 23,
     "metadata": {},
     "output_type": "execute_result"
    }
   ],
   "source": [
    "def project_array(coord, p1_type, p2_type):\n",
    "    \"\"\"\n",
    "    좌표계 변환 함수\n",
    "    - coord: x, y 좌표 정보가 담긴 NumPy Array\n",
    "    - p1_type: 입력 좌표계 정보 ex) epsg:5179\n",
    "    - p2_type: 출력 좌표계 정보 ex) epsg:4326\n",
    "    \"\"\"\n",
    "    p1 = pyproj.Proj(init=p1_type)\n",
    "    p2 = pyproj.Proj(init=p2_type)\n",
    "    fx, fy = pyproj.transform(p1, p2, coord[:, 0], coord[:, 1])\n",
    "    return np.dstack([fx, fy])[0]\n",
    "\n",
    "# 좌표계 정보 설정\n",
    "p1_type = \"epsg:2097\"\n",
    "p2_type = \"epsg:4326\"\n",
    "\n",
    "# project_array() 함수 실행\n",
    "result = project_array(xy, p1_type, p2_type)\n",
    "result"
   ]
  },
  {
   "cell_type": "code",
   "execution_count": 24,
   "id": "3a0c705e",
   "metadata": {},
   "outputs": [
    {
     "data": {
      "text/html": [
       "<div>\n",
       "<style scoped>\n",
       "    .dataframe tbody tr th:only-of-type {\n",
       "        vertical-align: middle;\n",
       "    }\n",
       "\n",
       "    .dataframe tbody tr th {\n",
       "        vertical-align: top;\n",
       "    }\n",
       "\n",
       "    .dataframe thead th {\n",
       "        text-align: right;\n",
       "    }\n",
       "</style>\n",
       "<table border=\"1\" class=\"dataframe\">\n",
       "  <thead>\n",
       "    <tr style=\"text-align: right;\">\n",
       "      <th></th>\n",
       "      <th>name</th>\n",
       "      <th>score</th>\n",
       "      <th>review</th>\n",
       "      <th>review_len</th>\n",
       "      <th>경도</th>\n",
       "      <th>위도</th>\n",
       "    </tr>\n",
       "  </thead>\n",
       "  <tbody>\n",
       "    <tr>\n",
       "      <th>0</th>\n",
       "      <td>명동칼국수샤브샤브 강남대로점</td>\n",
       "      <td>1</td>\n",
       "      <td>설거지좀 제대로 해주세요. 칼국수 그릇 겉에 국물  마른 자국이 항상 있네요</td>\n",
       "      <td>42</td>\n",
       "      <td>127.039799</td>\n",
       "      <td>37.501456</td>\n",
       "    </tr>\n",
       "    <tr>\n",
       "      <th>1</th>\n",
       "      <td>명동칼국수샤브샤브 강남대로점</td>\n",
       "      <td>4</td>\n",
       "      <td>맛있음. 구성좋고 가격도 합리적.  친절함.</td>\n",
       "      <td>25</td>\n",
       "      <td>127.039799</td>\n",
       "      <td>37.501456</td>\n",
       "    </tr>\n",
       "    <tr>\n",
       "      <th>2</th>\n",
       "      <td>명동칼국수샤브샤브 강남대로점</td>\n",
       "      <td>5</td>\n",
       "      <td>가성비 좋고, 죽이 맛있어요. 칼국수는 쏘쏘</td>\n",
       "      <td>24</td>\n",
       "      <td>127.039799</td>\n",
       "      <td>37.501456</td>\n",
       "    </tr>\n",
       "    <tr>\n",
       "      <th>3</th>\n",
       "      <td>명동칼국수샤브샤브 강남대로점</td>\n",
       "      <td>5</td>\n",
       "      <td>깔끔존맛이에요</td>\n",
       "      <td>7</td>\n",
       "      <td>127.039799</td>\n",
       "      <td>37.501456</td>\n",
       "    </tr>\n",
       "    <tr>\n",
       "      <th>4</th>\n",
       "      <td>세븐브릭스키친</td>\n",
       "      <td>1</td>\n",
       "      <td>너무 불친절해서 다시는 가고 싶지 않아요.</td>\n",
       "      <td>23</td>\n",
       "      <td>127.036610</td>\n",
       "      <td>37.486880</td>\n",
       "    </tr>\n",
       "    <tr>\n",
       "      <th>...</th>\n",
       "      <td>...</td>\n",
       "      <td>...</td>\n",
       "      <td>...</td>\n",
       "      <td>...</td>\n",
       "      <td>...</td>\n",
       "      <td>...</td>\n",
       "    </tr>\n",
       "    <tr>\n",
       "      <th>22344</th>\n",
       "      <td>류몽민</td>\n",
       "      <td>5</td>\n",
       "      <td>닭좋아하는 저희 가족 완전 폭식하고 왔어요 넘넘 맛있어요 ㅎㅎㅎ 매운거 못먹겠다는 ...</td>\n",
       "      <td>68</td>\n",
       "      <td>127.025960</td>\n",
       "      <td>37.514358</td>\n",
       "    </tr>\n",
       "    <tr>\n",
       "      <th>22345</th>\n",
       "      <td>류몽민</td>\n",
       "      <td>5</td>\n",
       "      <td>닭갈비에 막국수 조합 짱이에요 ㅜㅜ 짱 맛있음.... 다음에 또 올게요 가족들 다 ...</td>\n",
       "      <td>58</td>\n",
       "      <td>127.025960</td>\n",
       "      <td>37.514358</td>\n",
       "    </tr>\n",
       "    <tr>\n",
       "      <th>22346</th>\n",
       "      <td>류몽민</td>\n",
       "      <td>5</td>\n",
       "      <td>닭갈비에 밥볶아먹는거 너무좋아요 &gt;&lt; 집에서 해먹음 왜 이맛이 안나는지ㅠㅠ 또 찾아...</td>\n",
       "      <td>70</td>\n",
       "      <td>127.025960</td>\n",
       "      <td>37.514358</td>\n",
       "    </tr>\n",
       "    <tr>\n",
       "      <th>22347</th>\n",
       "      <td>크랩52</td>\n",
       "      <td>5</td>\n",
       "      <td>와이프가 좋아합니다. 와이프가 너무 좋아해서 자주 오고 싶은데 예약이 너무 어려움....</td>\n",
       "      <td>51</td>\n",
       "      <td>127.058303</td>\n",
       "      <td>37.510398</td>\n",
       "    </tr>\n",
       "    <tr>\n",
       "      <th>22348</th>\n",
       "      <td>원조마포소금구이 강남점</td>\n",
       "      <td>5</td>\n",
       "      <td>집근처 주변에 맛있는 갈매기살 맛집이 생겼네요~~ 사장님포함 직원분들도 너무 친절하...</td>\n",
       "      <td>115</td>\n",
       "      <td>127.018058</td>\n",
       "      <td>37.522967</td>\n",
       "    </tr>\n",
       "  </tbody>\n",
       "</table>\n",
       "<p>22349 rows × 6 columns</p>\n",
       "</div>"
      ],
      "text/plain": [
       "                  name  score  \\\n",
       "0      명동칼국수샤브샤브 강남대로점      1   \n",
       "1      명동칼국수샤브샤브 강남대로점      4   \n",
       "2      명동칼국수샤브샤브 강남대로점      5   \n",
       "3      명동칼국수샤브샤브 강남대로점      5   \n",
       "4              세븐브릭스키친      1   \n",
       "...                ...    ...   \n",
       "22344              류몽민      5   \n",
       "22345              류몽민      5   \n",
       "22346              류몽민      5   \n",
       "22347             크랩52      5   \n",
       "22348     원조마포소금구이 강남점      5   \n",
       "\n",
       "                                                  review  review_len  \\\n",
       "0             설거지좀 제대로 해주세요. 칼국수 그릇 겉에 국물  마른 자국이 항상 있네요          42   \n",
       "1                              맛있음. 구성좋고 가격도 합리적.  친절함.           25   \n",
       "2                               가성비 좋고, 죽이 맛있어요. 칼국수는 쏘쏘          24   \n",
       "3                                                깔끔존맛이에요           7   \n",
       "4                                너무 불친절해서 다시는 가고 싶지 않아요.          23   \n",
       "...                                                  ...         ...   \n",
       "22344  닭좋아하는 저희 가족 완전 폭식하고 왔어요 넘넘 맛있어요 ㅎㅎㅎ 매운거 못먹겠다는 ...          68   \n",
       "22345  닭갈비에 막국수 조합 짱이에요 ㅜㅜ 짱 맛있음.... 다음에 또 올게요 가족들 다 ...          58   \n",
       "22346  닭갈비에 밥볶아먹는거 너무좋아요 >< 집에서 해먹음 왜 이맛이 안나는지ㅠㅠ 또 찾아...          70   \n",
       "22347  와이프가 좋아합니다. 와이프가 너무 좋아해서 자주 오고 싶은데 예약이 너무 어려움....          51   \n",
       "22348  집근처 주변에 맛있는 갈매기살 맛집이 생겼네요~~ 사장님포함 직원분들도 너무 친절하...         115   \n",
       "\n",
       "               경도         위도  \n",
       "0      127.039799  37.501456  \n",
       "1      127.039799  37.501456  \n",
       "2      127.039799  37.501456  \n",
       "3      127.039799  37.501456  \n",
       "4      127.036610  37.486880  \n",
       "...           ...        ...  \n",
       "22344  127.025960  37.514358  \n",
       "22345  127.025960  37.514358  \n",
       "22346  127.025960  37.514358  \n",
       "22347  127.058303  37.510398  \n",
       "22348  127.018058  37.522967  \n",
       "\n",
       "[22349 rows x 6 columns]"
      ]
     },
     "execution_count": 24,
     "metadata": {},
     "output_type": "execute_result"
    }
   ],
   "source": [
    "df2['경도'] = result[:, 0]\n",
    "df2['위도'] = result[:, 1]\n",
    "df2"
   ]
  },
  {
   "cell_type": "code",
   "execution_count": null,
   "id": "2dcf7444",
   "metadata": {},
   "outputs": [],
   "source": []
  }
 ],
 "metadata": {
  "kernelspec": {
   "display_name": "Python 3 (ipykernel)",
   "language": "python",
   "name": "python3"
  },
  "language_info": {
   "codemirror_mode": {
    "name": "ipython",
    "version": 3
   },
   "file_extension": ".py",
   "mimetype": "text/x-python",
   "name": "python",
   "nbconvert_exporter": "python",
   "pygments_lexer": "ipython3",
   "version": "3.9.7"
  }
 },
 "nbformat": 4,
 "nbformat_minor": 5
}
