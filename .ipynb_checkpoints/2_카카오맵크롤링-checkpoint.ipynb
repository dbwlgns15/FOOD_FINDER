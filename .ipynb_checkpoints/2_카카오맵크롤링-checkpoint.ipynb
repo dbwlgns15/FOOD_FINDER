{
 "cells": [
  {
   "cell_type": "code",
   "execution_count": 1,
   "id": "dc2dea2d",
   "metadata": {},
   "outputs": [],
   "source": [
    "import pandas as pd\n",
    "import numpy as np\n",
    "import matplotlib.pyplot as plt\n",
    "import seaborn as sns\n",
    "import re\n",
    "from collections import Counter\n",
    "import requests\n",
    "import bs4\n",
    "from bs4 import BeautifulSoup\n",
    "import selenium\n",
    "from selenium import webdriver\n",
    "\n",
    "import warnings\n",
    "warnings.filterwarnings('ignore')"
   ]
  },
  {
   "cell_type": "code",
   "execution_count": 2,
   "id": "9c274938",
   "metadata": {},
   "outputs": [],
   "source": [
    "df = pd.read_csv(\"./seoul_food.csv\", encoding='cp949')\n",
    "df = df.drop(columns='Unnamed: 0')"
   ]
  },
  {
   "cell_type": "code",
   "execution_count": 3,
   "id": "e69f471f",
   "metadata": {},
   "outputs": [
    {
     "data": {
      "text/html": [
       "<div>\n",
       "<style scoped>\n",
       "    .dataframe tbody tr th:only-of-type {\n",
       "        vertical-align: middle;\n",
       "    }\n",
       "\n",
       "    .dataframe tbody tr th {\n",
       "        vertical-align: top;\n",
       "    }\n",
       "\n",
       "    .dataframe thead th {\n",
       "        text-align: right;\n",
       "    }\n",
       "</style>\n",
       "<table border=\"1\" class=\"dataframe\">\n",
       "  <thead>\n",
       "    <tr style=\"text-align: right;\">\n",
       "      <th></th>\n",
       "      <th>구</th>\n",
       "      <th>동</th>\n",
       "      <th>사업장명</th>\n",
       "      <th>업종</th>\n",
       "      <th>좌표정보(X)</th>\n",
       "      <th>좌표정보(Y)</th>\n",
       "    </tr>\n",
       "  </thead>\n",
       "  <tbody>\n",
       "    <tr>\n",
       "      <th>0</th>\n",
       "      <td>종로구</td>\n",
       "      <td>관철동</td>\n",
       "      <td>상해</td>\n",
       "      <td>분식</td>\n",
       "      <td>198867.702591</td>\n",
       "      <td>451824.281126</td>\n",
       "    </tr>\n",
       "    <tr>\n",
       "      <th>1</th>\n",
       "      <td>관악구</td>\n",
       "      <td>신림동</td>\n",
       "      <td>미쿠</td>\n",
       "      <td>일식</td>\n",
       "      <td>193687.348199</td>\n",
       "      <td>442284.164025</td>\n",
       "    </tr>\n",
       "    <tr>\n",
       "      <th>2</th>\n",
       "      <td>구로구</td>\n",
       "      <td>구로동</td>\n",
       "      <td>여름엔빙수겨울엔떡국</td>\n",
       "      <td>한식</td>\n",
       "      <td>189814.305919</td>\n",
       "      <td>443046.239859</td>\n",
       "    </tr>\n",
       "    <tr>\n",
       "      <th>3</th>\n",
       "      <td>강남구</td>\n",
       "      <td>대치동</td>\n",
       "      <td>카페디퍼</td>\n",
       "      <td>카페</td>\n",
       "      <td>204776.548264</td>\n",
       "      <td>444677.642985</td>\n",
       "    </tr>\n",
       "    <tr>\n",
       "      <th>4</th>\n",
       "      <td>동대문구</td>\n",
       "      <td>신설동</td>\n",
       "      <td>메이크데이(MakeDay)</td>\n",
       "      <td>카페</td>\n",
       "      <td>202114.228397</td>\n",
       "      <td>452392.093759</td>\n",
       "    </tr>\n",
       "  </tbody>\n",
       "</table>\n",
       "</div>"
      ],
      "text/plain": [
       "      구    동            사업장명  업종        좌표정보(X)        좌표정보(Y)\n",
       "0   종로구  관철동              상해  분식  198867.702591  451824.281126\n",
       "1   관악구  신림동              미쿠  일식  193687.348199  442284.164025\n",
       "2   구로구  구로동      여름엔빙수겨울엔떡국  한식  189814.305919  443046.239859\n",
       "3   강남구  대치동            카페디퍼  카페  204776.548264  444677.642985\n",
       "4  동대문구  신설동  메이크데이(MakeDay)  카페  202114.228397  452392.093759"
      ]
     },
     "execution_count": 3,
     "metadata": {},
     "output_type": "execute_result"
    }
   ],
   "source": [
    "df.head()"
   ]
  },
  {
   "cell_type": "code",
   "execution_count": 4,
   "id": "356b2fbf",
   "metadata": {
    "scrolled": true
   },
   "outputs": [
    {
     "name": "stdout",
     "output_type": "stream",
     "text": [
      "자치구 목록: 종로구 관악구 구로구 강남구 동대문구 은평구 강북구 영등포구 중랑구 서초구 강서구 강동구 성동구 노원구 중구 성북구 도봉구 용산구 광진구 송파구 마포구 금천구 동작구 양천구 서대문구 \n",
      "원하시는 자치구를 입력해주세요:\n",
      "동작구\n",
      "자치동 목록: 사당동 상도1동 신대방동 흑석동 상도동 노량진동 대방동 \n",
      "원하시는 자치동을 입력해주세요:\n",
      "흑석동\n",
      "음식종류 목록: 분식 일식 한식 카페 양식 치킨 외국음식 중식 고기 해산물 술집 패스트푸드 \n",
      "원하시는 음식종류를 입력해주세요:\n",
      "한식\n"
     ]
    }
   ],
   "source": [
    "print('자치구 목록:', end= ' ')\n",
    "for i in list(df['구'].unique()):\n",
    "    print(i, end=' ')\n",
    "print()\n",
    "print('원하시는 자치구를 입력해주세요:')\n",
    "gu = input()\n",
    "\n",
    "print('자치동 목록:', end=' ')\n",
    "for i in list(df[df['구'] == gu]['동'].unique()):\n",
    "    print(i, end=' ')\n",
    "print()\n",
    "print('원하시는 자치동을 입력해주세요:')\n",
    "dong = input()\n",
    "\n",
    "print('음식종류 목록:', end=' ')\n",
    "for i in list(df['업종'].unique()):\n",
    "    print(i, end=' ')\n",
    "print()\n",
    "print('원하시는 음식종류를 입력해주세요:')\n",
    "food = input()\n",
    "\n",
    "food_list = df[df['구'] == gu][df['동'] == dong][df['업종'] == food]['사업장명'].tolist()\n",
    "\n",
    "keyword_list = [gu+' '+dong+' '+i for i in food_list]\n",
    "#동작구 흑석동 한식"
   ]
  },
  {
   "cell_type": "code",
   "execution_count": 5,
   "id": "11a01e0a",
   "metadata": {},
   "outputs": [
    {
     "data": {
      "text/plain": [
       "'동작구 흑석동 연어이야기'"
      ]
     },
     "execution_count": 5,
     "metadata": {},
     "output_type": "execute_result"
    }
   ],
   "source": [
    "keyword_list[3]"
   ]
  },
  {
   "cell_type": "code",
   "execution_count": 6,
   "id": "b54b28a0",
   "metadata": {
    "scrolled": true
   },
   "outputs": [
    {
     "data": {
      "text/plain": [
       "'https://map.kakao.com/?q=동작구 흑석동 연어이야기'"
      ]
     },
     "execution_count": 6,
     "metadata": {},
     "output_type": "execute_result"
    }
   ],
   "source": [
    "keyword = keyword_list[3]\n",
    "url = f'https://map.kakao.com/?q={keyword}'\n",
    "# itemid = 27315641\n",
    "url"
   ]
  },
  {
   "cell_type": "code",
   "execution_count": 7,
   "id": "4101cfa9",
   "metadata": {},
   "outputs": [],
   "source": [
    "driver = webdriver.Edge(executable_path='msedgedriver')"
   ]
  },
  {
   "cell_type": "code",
   "execution_count": null,
   "id": "cd926139",
   "metadata": {},
   "outputs": [],
   "source": []
  },
  {
   "cell_type": "code",
   "execution_count": null,
   "id": "375538e4",
   "metadata": {},
   "outputs": [],
   "source": []
  },
  {
   "cell_type": "code",
   "execution_count": null,
   "id": "48f516ff",
   "metadata": {},
   "outputs": [],
   "source": []
  },
  {
   "cell_type": "code",
   "execution_count": null,
   "id": "b9db0d1f",
   "metadata": {},
   "outputs": [],
   "source": []
  },
  {
   "cell_type": "code",
   "execution_count": null,
   "id": "017e8594",
   "metadata": {},
   "outputs": [],
   "source": []
  },
  {
   "cell_type": "code",
   "execution_count": null,
   "id": "9d721582",
   "metadata": {},
   "outputs": [],
   "source": []
  },
  {
   "cell_type": "code",
   "execution_count": null,
   "id": "bee1f298",
   "metadata": {},
   "outputs": [],
   "source": []
  },
  {
   "cell_type": "code",
   "execution_count": null,
   "id": "34cb75a7",
   "metadata": {},
   "outputs": [],
   "source": []
  }
 ],
 "metadata": {
  "kernelspec": {
   "display_name": "Python 3 (ipykernel)",
   "language": "python",
   "name": "python3"
  },
  "language_info": {
   "codemirror_mode": {
    "name": "ipython",
    "version": 3
   },
   "file_extension": ".py",
   "mimetype": "text/x-python",
   "name": "python",
   "nbconvert_exporter": "python",
   "pygments_lexer": "ipython3",
   "version": "3.9.7"
  }
 },
 "nbformat": 4,
 "nbformat_minor": 5
}
